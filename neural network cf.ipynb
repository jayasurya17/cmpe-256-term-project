{
  "nbformat": 4,
  "nbformat_minor": 0,
  "metadata": {
    "colab": {
      "name": "cloth_ownref.ipynb",
      "provenance": []
    },
    "kernelspec": {
      "name": "python3",
      "display_name": "Python 3"
    },
    "language_info": {
      "name": "python"
    }
  },
  "cells": [
    {
      "cell_type": "code",
      "metadata": {
        "colab": {
          "base_uri": "https://localhost:8080/",
          "height": 759
        },
        "id": "ruI7iK3jpOlv",
        "outputId": "777912e7-5609-4398-b355-202ebe46b481"
      },
      "source": [
        "import pandas as pd\n",
        "url = \"https://raw.githubusercontent.com/jayasurya17/cmpe-256-term-project/master/clothing.csv\"\n",
        "clothing_data = pd.read_csv(url)\n",
        "clothing_data"
      ],
      "execution_count": 4,
      "outputs": [
        {
          "output_type": "execute_result",
          "data": {
            "text/html": [
              "<div>\n",
              "<style scoped>\n",
              "    .dataframe tbody tr th:only-of-type {\n",
              "        vertical-align: middle;\n",
              "    }\n",
              "\n",
              "    .dataframe tbody tr th {\n",
              "        vertical-align: top;\n",
              "    }\n",
              "\n",
              "    .dataframe thead th {\n",
              "        text-align: right;\n",
              "    }\n",
              "</style>\n",
              "<table border=\"1\" class=\"dataframe\">\n",
              "  <thead>\n",
              "    <tr style=\"text-align: right;\">\n",
              "      <th></th>\n",
              "      <th>fit</th>\n",
              "      <th>user_id</th>\n",
              "      <th>bust size</th>\n",
              "      <th>item_id</th>\n",
              "      <th>weight</th>\n",
              "      <th>rating</th>\n",
              "      <th>rented for</th>\n",
              "      <th>review_text</th>\n",
              "      <th>body type</th>\n",
              "      <th>review_summary</th>\n",
              "      <th>category</th>\n",
              "      <th>height</th>\n",
              "      <th>size</th>\n",
              "      <th>age</th>\n",
              "      <th>review_date</th>\n",
              "    </tr>\n",
              "  </thead>\n",
              "  <tbody>\n",
              "    <tr>\n",
              "      <th>0</th>\n",
              "      <td>fit</td>\n",
              "      <td>420272</td>\n",
              "      <td>34d</td>\n",
              "      <td>2260466</td>\n",
              "      <td>137lbs</td>\n",
              "      <td>10.0</td>\n",
              "      <td>vacation</td>\n",
              "      <td>An adorable romper! Belt and zipper were a lit...</td>\n",
              "      <td>hourglass</td>\n",
              "      <td>So many compliments!</td>\n",
              "      <td>romper</td>\n",
              "      <td>5' 8\"</td>\n",
              "      <td>14</td>\n",
              "      <td>28.0</td>\n",
              "      <td>April 20, 2016</td>\n",
              "    </tr>\n",
              "    <tr>\n",
              "      <th>1</th>\n",
              "      <td>fit</td>\n",
              "      <td>273551</td>\n",
              "      <td>34b</td>\n",
              "      <td>153475</td>\n",
              "      <td>132lbs</td>\n",
              "      <td>10.0</td>\n",
              "      <td>other</td>\n",
              "      <td>I rented this dress for a photo shoot. The the...</td>\n",
              "      <td>straight &amp; narrow</td>\n",
              "      <td>I felt so glamourous!!!</td>\n",
              "      <td>gown</td>\n",
              "      <td>5' 6\"</td>\n",
              "      <td>12</td>\n",
              "      <td>36.0</td>\n",
              "      <td>June 18, 2013</td>\n",
              "    </tr>\n",
              "    <tr>\n",
              "      <th>2</th>\n",
              "      <td>fit</td>\n",
              "      <td>360448</td>\n",
              "      <td>NaN</td>\n",
              "      <td>1063761</td>\n",
              "      <td>NaN</td>\n",
              "      <td>10.0</td>\n",
              "      <td>party</td>\n",
              "      <td>This hugged in all the right places! It was a ...</td>\n",
              "      <td>NaN</td>\n",
              "      <td>It was a great time to celebrate the (almost) ...</td>\n",
              "      <td>sheath</td>\n",
              "      <td>5' 4\"</td>\n",
              "      <td>4</td>\n",
              "      <td>116.0</td>\n",
              "      <td>December 14, 2015</td>\n",
              "    </tr>\n",
              "    <tr>\n",
              "      <th>3</th>\n",
              "      <td>fit</td>\n",
              "      <td>909926</td>\n",
              "      <td>34c</td>\n",
              "      <td>126335</td>\n",
              "      <td>135lbs</td>\n",
              "      <td>8.0</td>\n",
              "      <td>formal affair</td>\n",
              "      <td>I rented this for my company's black tie award...</td>\n",
              "      <td>pear</td>\n",
              "      <td>Dress arrived on time and in perfect condition.</td>\n",
              "      <td>dress</td>\n",
              "      <td>5' 5\"</td>\n",
              "      <td>8</td>\n",
              "      <td>34.0</td>\n",
              "      <td>February 12, 2014</td>\n",
              "    </tr>\n",
              "    <tr>\n",
              "      <th>4</th>\n",
              "      <td>fit</td>\n",
              "      <td>151944</td>\n",
              "      <td>34b</td>\n",
              "      <td>616682</td>\n",
              "      <td>145lbs</td>\n",
              "      <td>10.0</td>\n",
              "      <td>wedding</td>\n",
              "      <td>I have always been petite in my upper body and...</td>\n",
              "      <td>athletic</td>\n",
              "      <td>Was in love with this dress !!!</td>\n",
              "      <td>gown</td>\n",
              "      <td>5' 9\"</td>\n",
              "      <td>12</td>\n",
              "      <td>27.0</td>\n",
              "      <td>September 26, 2016</td>\n",
              "    </tr>\n",
              "    <tr>\n",
              "      <th>...</th>\n",
              "      <td>...</td>\n",
              "      <td>...</td>\n",
              "      <td>...</td>\n",
              "      <td>...</td>\n",
              "      <td>...</td>\n",
              "      <td>...</td>\n",
              "      <td>...</td>\n",
              "      <td>...</td>\n",
              "      <td>...</td>\n",
              "      <td>...</td>\n",
              "      <td>...</td>\n",
              "      <td>...</td>\n",
              "      <td>...</td>\n",
              "      <td>...</td>\n",
              "      <td>...</td>\n",
              "    </tr>\n",
              "    <tr>\n",
              "      <th>192539</th>\n",
              "      <td>fit</td>\n",
              "      <td>66386</td>\n",
              "      <td>34dd</td>\n",
              "      <td>2252812</td>\n",
              "      <td>140lbs</td>\n",
              "      <td>10.0</td>\n",
              "      <td>work</td>\n",
              "      <td>Fit like a glove!</td>\n",
              "      <td>hourglass</td>\n",
              "      <td>LOVE IT!!! First Item Im thinking of buying!</td>\n",
              "      <td>jumpsuit</td>\n",
              "      <td>5' 9\"</td>\n",
              "      <td>8</td>\n",
              "      <td>42.0</td>\n",
              "      <td>May 18, 2016</td>\n",
              "    </tr>\n",
              "    <tr>\n",
              "      <th>192540</th>\n",
              "      <td>fit</td>\n",
              "      <td>118398</td>\n",
              "      <td>32c</td>\n",
              "      <td>682043</td>\n",
              "      <td>100lbs</td>\n",
              "      <td>10.0</td>\n",
              "      <td>work</td>\n",
              "      <td>The pattern contrast on this dress is really s...</td>\n",
              "      <td>petite</td>\n",
              "      <td>LOVE it!</td>\n",
              "      <td>dress</td>\n",
              "      <td>5' 1\"</td>\n",
              "      <td>4</td>\n",
              "      <td>29.0</td>\n",
              "      <td>September 30, 2016</td>\n",
              "    </tr>\n",
              "    <tr>\n",
              "      <th>192541</th>\n",
              "      <td>fit</td>\n",
              "      <td>47002</td>\n",
              "      <td>36a</td>\n",
              "      <td>683251</td>\n",
              "      <td>135lbs</td>\n",
              "      <td>6.0</td>\n",
              "      <td>everyday</td>\n",
              "      <td>Like the other DVF wraps, the fit on this is f...</td>\n",
              "      <td>straight &amp; narrow</td>\n",
              "      <td>Loud patterning, flattering fit</td>\n",
              "      <td>dress</td>\n",
              "      <td>5' 8\"</td>\n",
              "      <td>8</td>\n",
              "      <td>31.0</td>\n",
              "      <td>March 4, 2016</td>\n",
              "    </tr>\n",
              "    <tr>\n",
              "      <th>192542</th>\n",
              "      <td>fit</td>\n",
              "      <td>961120</td>\n",
              "      <td>36c</td>\n",
              "      <td>126335</td>\n",
              "      <td>165lbs</td>\n",
              "      <td>10.0</td>\n",
              "      <td>wedding</td>\n",
              "      <td>This dress was PERFECTION.  it looked incredib...</td>\n",
              "      <td>pear</td>\n",
              "      <td>loved this dress it was comfortable and photog...</td>\n",
              "      <td>dress</td>\n",
              "      <td>5' 6\"</td>\n",
              "      <td>16</td>\n",
              "      <td>31.0</td>\n",
              "      <td>November 25, 2015</td>\n",
              "    </tr>\n",
              "    <tr>\n",
              "      <th>192543</th>\n",
              "      <td>fit</td>\n",
              "      <td>123612</td>\n",
              "      <td>36b</td>\n",
              "      <td>127865</td>\n",
              "      <td>155lbs</td>\n",
              "      <td>10.0</td>\n",
              "      <td>wedding</td>\n",
              "      <td>This dress was wonderful! I had originally pla...</td>\n",
              "      <td>athletic</td>\n",
              "      <td>I wore this to a beautiful black tie optional ...</td>\n",
              "      <td>gown</td>\n",
              "      <td>5' 6\"</td>\n",
              "      <td>16</td>\n",
              "      <td>30.0</td>\n",
              "      <td>August 29, 2017</td>\n",
              "    </tr>\n",
              "  </tbody>\n",
              "</table>\n",
              "<p>192544 rows × 15 columns</p>\n",
              "</div>"
            ],
            "text/plain": [
              "        fit  user_id bust size  item_id  ... height  size    age         review_date\n",
              "0       fit   420272       34d  2260466  ...  5' 8\"    14   28.0      April 20, 2016\n",
              "1       fit   273551       34b   153475  ...  5' 6\"    12   36.0       June 18, 2013\n",
              "2       fit   360448       NaN  1063761  ...  5' 4\"     4  116.0   December 14, 2015\n",
              "3       fit   909926       34c   126335  ...  5' 5\"     8   34.0   February 12, 2014\n",
              "4       fit   151944       34b   616682  ...  5' 9\"    12   27.0  September 26, 2016\n",
              "...     ...      ...       ...      ...  ...    ...   ...    ...                 ...\n",
              "192539  fit    66386      34dd  2252812  ...  5' 9\"     8   42.0        May 18, 2016\n",
              "192540  fit   118398       32c   682043  ...  5' 1\"     4   29.0  September 30, 2016\n",
              "192541  fit    47002       36a   683251  ...  5' 8\"     8   31.0       March 4, 2016\n",
              "192542  fit   961120       36c   126335  ...  5' 6\"    16   31.0   November 25, 2015\n",
              "192543  fit   123612       36b   127865  ...  5' 6\"    16   30.0     August 29, 2017\n",
              "\n",
              "[192544 rows x 15 columns]"
            ]
          },
          "metadata": {
            "tags": []
          },
          "execution_count": 4
        }
      ]
    },
    {
      "cell_type": "code",
      "metadata": {
        "colab": {
          "base_uri": "https://localhost:8080/"
        },
        "id": "6gT2ayBlWrvr",
        "outputId": "540b3336-4040-4b39-d1d5-d8251d6be0f9"
      },
      "source": [
        "pip install surprise"
      ],
      "execution_count": 5,
      "outputs": [
        {
          "output_type": "stream",
          "text": [
            "Collecting surprise\n",
            "  Downloading https://files.pythonhosted.org/packages/61/de/e5cba8682201fcf9c3719a6fdda95693468ed061945493dea2dd37c5618b/surprise-0.1-py2.py3-none-any.whl\n",
            "Collecting scikit-surprise\n",
            "\u001b[?25l  Downloading https://files.pythonhosted.org/packages/97/37/5d334adaf5ddd65da99fc65f6507e0e4599d092ba048f4302fe8775619e8/scikit-surprise-1.1.1.tar.gz (11.8MB)\n",
            "\u001b[K     |████████████████████████████████| 11.8MB 8.2MB/s \n",
            "\u001b[?25hRequirement already satisfied: joblib>=0.11 in /usr/local/lib/python3.7/dist-packages (from scikit-surprise->surprise) (1.0.1)\n",
            "Requirement already satisfied: numpy>=1.11.2 in /usr/local/lib/python3.7/dist-packages (from scikit-surprise->surprise) (1.19.5)\n",
            "Requirement already satisfied: scipy>=1.0.0 in /usr/local/lib/python3.7/dist-packages (from scikit-surprise->surprise) (1.4.1)\n",
            "Requirement already satisfied: six>=1.10.0 in /usr/local/lib/python3.7/dist-packages (from scikit-surprise->surprise) (1.15.0)\n",
            "Building wheels for collected packages: scikit-surprise\n",
            "  Building wheel for scikit-surprise (setup.py) ... \u001b[?25l\u001b[?25hdone\n",
            "  Created wheel for scikit-surprise: filename=scikit_surprise-1.1.1-cp37-cp37m-linux_x86_64.whl size=1617548 sha256=e5890aff226b6fe05a97d5f3038d1bcaad2cd2e644c6f2a4b9988d77f4ed3ef3\n",
            "  Stored in directory: /root/.cache/pip/wheels/78/9c/3d/41b419c9d2aff5b6e2b4c0fc8d25c538202834058f9ed110d0\n",
            "Successfully built scikit-surprise\n",
            "Installing collected packages: scikit-surprise, surprise\n",
            "Successfully installed scikit-surprise-1.1.1 surprise-0.1\n"
          ],
          "name": "stdout"
        }
      ]
    },
    {
      "cell_type": "code",
      "metadata": {
        "id": "b0BMi8YABjH2"
      },
      "source": [
        "import pickle\n",
        "import pandas as pd\n",
        "import numpy as np\n",
        "import matplotlib.pyplot as plt\n",
        "from matplotlib.pyplot import imshow\n",
        "from matplotlib.pyplot import figure\n",
        "from PIL import Image\n",
        "import requests\n",
        "from io import BytesIO\n",
        "import os\n",
        "from sklearn.decomposition import TruncatedSVD\n",
        "from sklearn.preprocessing import Normalizer\n",
        "from sklearn.pipeline import make_pipeline\n",
        "from sklearn.metrics.pairwise import cosine_similarity\n",
        "from sklearn.preprocessing import StandardScaler\n",
        "from scipy import sparse\n",
        "import re\n",
        "\n",
        "import warnings\n",
        "warnings.simplefilter(\"ignore\")\n"
      ],
      "execution_count": 6,
      "outputs": []
    },
    {
      "cell_type": "code",
      "metadata": {
        "colab": {
          "base_uri": "https://localhost:8080/"
        },
        "id": "zBl0DXbRySpz",
        "outputId": "3fe9ec47-8e7e-4012-9bd0-0bbbdea9919e"
      },
      "source": [
        "#checking missing values in (fit-no missing value, bust size- has M missing v, weight - has L missing v, rating has 82 missing)\n",
        "clothing_data.count()"
      ],
      "execution_count": 7,
      "outputs": [
        {
          "output_type": "execute_result",
          "data": {
            "text/plain": [
              "fit               192544\n",
              "user_id           192544\n",
              "bust size         174133\n",
              "item_id           192544\n",
              "weight            162562\n",
              "rating            192462\n",
              "rented for        192534\n",
              "review_text       192482\n",
              "body type         177907\n",
              "review_summary    192199\n",
              "category          192544\n",
              "height            191867\n",
              "size              192544\n",
              "age               191584\n",
              "review_date       192544\n",
              "dtype: int64"
            ]
          },
          "metadata": {
            "tags": []
          },
          "execution_count": 7
        }
      ]
    },
    {
      "cell_type": "code",
      "metadata": {
        "colab": {
          "base_uri": "https://localhost:8080/"
        },
        "id": "MDcQFPt9Gvi2",
        "outputId": "0a7702ad-be30-422b-8e3c-a5a76cb3169c"
      },
      "source": [
        "clothing_data.dtypes"
      ],
      "execution_count": 8,
      "outputs": [
        {
          "output_type": "execute_result",
          "data": {
            "text/plain": [
              "fit                object\n",
              "user_id             int64\n",
              "bust size          object\n",
              "item_id             int64\n",
              "weight             object\n",
              "rating            float64\n",
              "rented for         object\n",
              "review_text        object\n",
              "body type          object\n",
              "review_summary     object\n",
              "category           object\n",
              "height             object\n",
              "size                int64\n",
              "age               float64\n",
              "review_date        object\n",
              "dtype: object"
            ]
          },
          "metadata": {
            "tags": []
          },
          "execution_count": 8
        }
      ]
    },
    {
      "cell_type": "markdown",
      "metadata": {
        "id": "Q-Vp6VRDSwtM"
      },
      "source": [
        "Methods for visualization"
      ]
    },
    {
      "cell_type": "code",
      "metadata": {
        "colab": {
          "base_uri": "https://localhost:8080/",
          "height": 17
        },
        "id": "H0p6V3vNgZid",
        "outputId": "2c388322-6bc8-454b-947f-8e96f9282c8e"
      },
      "source": [
        "import matplotlib.pyplot as plt\n",
        "import collections\n",
        "import seaborn as sns\n",
        "plt.style.use('fivethirtyeight')\n",
        "# for advanced visualizations\n",
        "import plotly.offline as py\n",
        "from plotly.offline import init_notebook_mode, iplot\n",
        "import plotly.graph_objs as go\n",
        "from plotly import tools\n",
        "init_notebook_mode(connected = True)\n",
        "import plotly.figure_factory as ff\n",
        "\n",
        "def plot_pie_chart(df, column, filename):\n",
        "    fig, ax = plt.subplots()\n",
        "    df[column].value_counts().plot(ax=ax, kind='pie')\n",
        "    plt.tight_layout()\n",
        "    plt.savefig(filename)\n",
        "    plt.show()\n",
        "\n",
        "def group_and_plot_pivot_graph(df, columns, filename):\n",
        "\n",
        "    # Group by one or more columns of choice in the dataframe\n",
        "    grouped_multiple = df.groupby(columns).size().reset_index()\n",
        "    # Rename the grouped column with size of groups as count\n",
        "    grouped_multiple.columns = columns + ['count']\n",
        "\n",
        "    fig = plt.figure()\n",
        "    grouped_multiple.pivot(columns[0], columns[1], 'count').plot(kind='bar')\n",
        "    plt.ylabel('count')\n",
        "    plt.legend(title=columns[1], bbox_to_anchor=(1.05, 1), loc='upper left')\n",
        "    plt.tight_layout()\n",
        "    plt.savefig(filename)\n",
        "    plt.show()\n",
        "\n",
        "def plot_hist_graph(df, column, filename):\n",
        "    fig, ax = plt.subplots()\n",
        "    df[column].plot(ax=ax, kind='hist')\n",
        "    plt.xlabel(column)\n",
        "    plt.ylabel('count')\n",
        "    plt.tight_layout()\n",
        "    plt.savefig(filename)\n",
        "    plt.show()\n",
        "\n",
        "def plot_bar_graph(df, column, filename):\n",
        "    fig, ax = plt.subplots()\n",
        "    df[column].value_counts().plot(ax=ax, kind='bar')\n",
        "    plt.xlabel(column)\n",
        "    plt.ylabel('count')\n",
        "    plt.tight_layout()\n",
        "    plt.savefig(filename)\n",
        "    plt.show()\n",
        "\n",
        "def plot_line_chart(df, column, filename):\n",
        "    frequency = collections.Counter(df[column])\n",
        "    sorted_frequency = {}\n",
        "    for key in sorted(frequency.keys()):\n",
        "      sorted_frequency[key] = frequency[key]\n",
        "    x = list(sorted_frequency.keys())\n",
        "    y = list(sorted_frequency.values())\n",
        "    fig, ax = plt.subplots()\n",
        "    plt.plot(x, y)\n",
        "    plt.tight_layout()\n",
        "    plt.savefig(filename)\n",
        "    plt.show()\n",
        "\n"
      ],
      "execution_count": 9,
      "outputs": [
        {
          "output_type": "display_data",
          "data": {
            "text/html": [
              "        <script type=\"text/javascript\">\n",
              "        window.PlotlyConfig = {MathJaxConfig: 'local'};\n",
              "        if (window.MathJax) {MathJax.Hub.Config({SVG: {font: \"STIX-Web\"}});}\n",
              "        if (typeof require !== 'undefined') {\n",
              "        require.undef(\"plotly\");\n",
              "        requirejs.config({\n",
              "            paths: {\n",
              "                'plotly': ['https://cdn.plot.ly/plotly-latest.min']\n",
              "            }\n",
              "        });\n",
              "        require(['plotly'], function(Plotly) {\n",
              "            window._Plotly = Plotly;\n",
              "        });\n",
              "        }\n",
              "        </script>\n",
              "        "
            ]
          },
          "metadata": {
            "tags": []
          }
        }
      ]
    },
    {
      "cell_type": "markdown",
      "metadata": {
        "id": "6AHZGHJbS7hw"
      },
      "source": [
        "PREPROCESSING FOR FIT"
      ]
    },
    {
      "cell_type": "code",
      "metadata": {
        "colab": {
          "base_uri": "https://localhost:8080/"
        },
        "id": "HVnFA3YzS2Gr",
        "outputId": "043d6909-e54d-4b73-e240-394cae41cf03"
      },
      "source": [
        "clothing_data.fit.describe()"
      ],
      "execution_count": null,
      "outputs": [
        {
          "output_type": "execute_result",
          "data": {
            "text/plain": [
              "count     192544\n",
              "unique         3\n",
              "top          fit\n",
              "freq      142058\n",
              "Name: fit, dtype: object"
            ]
          },
          "metadata": {
            "tags": []
          },
          "execution_count": 8
        }
      ]
    },
    {
      "cell_type": "code",
      "metadata": {
        "id": "UDNM_C5ke892"
      },
      "source": [
        "def compare_fit(x):\n",
        "  if x == 'fit':\n",
        "    return 0\n",
        "  elif x == 'small':\n",
        "    return -1\n",
        "  else:\n",
        "    return 1\n",
        "\n",
        "clothing_data['fit'] = clothing_data['fit'].apply(lambda x: compare_fit(x))\n",
        "#plot_pie_chart(clothing_data, 'fit', \"filename.png\")\n",
        "#plot_bar_graph(clothing_data, 'fit', \"filename.png\")"
      ],
      "execution_count": null,
      "outputs": []
    },
    {
      "cell_type": "markdown",
      "metadata": {
        "id": "HjyoaGQLQiua"
      },
      "source": [
        "PREPROCESSING FOR WEIGHT"
      ]
    },
    {
      "cell_type": "code",
      "metadata": {
        "colab": {
          "base_uri": "https://localhost:8080/"
        },
        "id": "KBtargKTi1pj",
        "outputId": "2e5cb3c8-4cd7-47d6-a7d2-680be317b977"
      },
      "source": [
        "clothing_data.weight.describe()"
      ],
      "execution_count": null,
      "outputs": [
        {
          "output_type": "execute_result",
          "data": {
            "text/plain": [
              "count     162562\n",
              "unique       190\n",
              "top       130lbs\n",
              "freq       14370\n",
              "Name: weight, dtype: object"
            ]
          },
          "metadata": {
            "tags": []
          },
          "execution_count": 10
        }
      ]
    },
    {
      "cell_type": "code",
      "metadata": {
        "colab": {
          "base_uri": "https://localhost:8080/"
        },
        "id": "pQq92jRKjJR_",
        "outputId": "da333bf0-b86b-470b-f646-41d89e0e375e"
      },
      "source": [
        "print(clothing_data.weight.isna().sum())"
      ],
      "execution_count": null,
      "outputs": [
        {
          "output_type": "stream",
          "text": [
            "29982\n"
          ],
          "name": "stdout"
        }
      ]
    },
    {
      "cell_type": "code",
      "metadata": {
        "colab": {
          "base_uri": "https://localhost:8080/"
        },
        "id": "8Ak-OUPdzbQB",
        "outputId": "140f7d35-968c-4345-8116-44c9305fae5f"
      },
      "source": [
        "clothing_data[\"weight\"] = clothing_data[\"weight\"].str.extract(\"(\\d+)\", expand=True)\n",
        "clothing_data[['weight']].head\n",
        "#clothing_data['weight'].fillna((clothing_data['weight'].mean()), inplace=True)"
      ],
      "execution_count": null,
      "outputs": [
        {
          "output_type": "execute_result",
          "data": {
            "text/plain": [
              "<bound method NDFrame.head of        weight\n",
              "0         137\n",
              "1         132\n",
              "2         NaN\n",
              "3         135\n",
              "4         145\n",
              "...       ...\n",
              "192539    140\n",
              "192540    100\n",
              "192541    135\n",
              "192542    165\n",
              "192543    155\n",
              "\n",
              "[192544 rows x 1 columns]>"
            ]
          },
          "metadata": {
            "tags": []
          },
          "execution_count": 12
        }
      ]
    },
    {
      "cell_type": "code",
      "metadata": {
        "colab": {
          "base_uri": "https://localhost:8080/"
        },
        "id": "w95zSRrx1stI",
        "outputId": "8beef53e-09b7-4201-c434-3c706e525719"
      },
      "source": [
        "print(type('weight'))"
      ],
      "execution_count": null,
      "outputs": [
        {
          "output_type": "stream",
          "text": [
            "<class 'str'>\n"
          ],
          "name": "stdout"
        }
      ]
    },
    {
      "cell_type": "code",
      "metadata": {
        "id": "fjwxWASd4hPv"
      },
      "source": [
        "clothing_data = clothing_data.astype({'weight': 'float'})"
      ],
      "execution_count": null,
      "outputs": []
    },
    {
      "cell_type": "code",
      "metadata": {
        "id": "E1APEwKQ4pWm"
      },
      "source": [
        "clothing_data['weight'].fillna((clothing_data['weight'].mean()), inplace=True)"
      ],
      "execution_count": null,
      "outputs": []
    },
    {
      "cell_type": "code",
      "metadata": {
        "colab": {
          "base_uri": "https://localhost:8080/",
          "height": 759
        },
        "id": "WQIoVj7B4rqZ",
        "outputId": "07d5e78d-1141-4309-e3ef-85dec2bf9bca"
      },
      "source": [
        "clothing_data"
      ],
      "execution_count": null,
      "outputs": [
        {
          "output_type": "execute_result",
          "data": {
            "text/html": [
              "<div>\n",
              "<style scoped>\n",
              "    .dataframe tbody tr th:only-of-type {\n",
              "        vertical-align: middle;\n",
              "    }\n",
              "\n",
              "    .dataframe tbody tr th {\n",
              "        vertical-align: top;\n",
              "    }\n",
              "\n",
              "    .dataframe thead th {\n",
              "        text-align: right;\n",
              "    }\n",
              "</style>\n",
              "<table border=\"1\" class=\"dataframe\">\n",
              "  <thead>\n",
              "    <tr style=\"text-align: right;\">\n",
              "      <th></th>\n",
              "      <th>fit</th>\n",
              "      <th>user_id</th>\n",
              "      <th>bust size</th>\n",
              "      <th>item_id</th>\n",
              "      <th>weight</th>\n",
              "      <th>rating</th>\n",
              "      <th>rented for</th>\n",
              "      <th>review_text</th>\n",
              "      <th>body type</th>\n",
              "      <th>review_summary</th>\n",
              "      <th>category</th>\n",
              "      <th>height</th>\n",
              "      <th>size</th>\n",
              "      <th>age</th>\n",
              "      <th>review_date</th>\n",
              "    </tr>\n",
              "  </thead>\n",
              "  <tbody>\n",
              "    <tr>\n",
              "      <th>0</th>\n",
              "      <td>0</td>\n",
              "      <td>420272</td>\n",
              "      <td>34d</td>\n",
              "      <td>2260466</td>\n",
              "      <td>137.000000</td>\n",
              "      <td>10.0</td>\n",
              "      <td>vacation</td>\n",
              "      <td>An adorable romper! Belt and zipper were a lit...</td>\n",
              "      <td>hourglass</td>\n",
              "      <td>So many compliments!</td>\n",
              "      <td>romper</td>\n",
              "      <td>5' 8\"</td>\n",
              "      <td>14</td>\n",
              "      <td>28.0</td>\n",
              "      <td>April 20, 2016</td>\n",
              "    </tr>\n",
              "    <tr>\n",
              "      <th>1</th>\n",
              "      <td>0</td>\n",
              "      <td>273551</td>\n",
              "      <td>34b</td>\n",
              "      <td>153475</td>\n",
              "      <td>132.000000</td>\n",
              "      <td>10.0</td>\n",
              "      <td>other</td>\n",
              "      <td>I rented this dress for a photo shoot. The the...</td>\n",
              "      <td>straight &amp; narrow</td>\n",
              "      <td>I felt so glamourous!!!</td>\n",
              "      <td>gown</td>\n",
              "      <td>5' 6\"</td>\n",
              "      <td>12</td>\n",
              "      <td>36.0</td>\n",
              "      <td>June 18, 2013</td>\n",
              "    </tr>\n",
              "    <tr>\n",
              "      <th>2</th>\n",
              "      <td>0</td>\n",
              "      <td>360448</td>\n",
              "      <td>NaN</td>\n",
              "      <td>1063761</td>\n",
              "      <td>137.391709</td>\n",
              "      <td>10.0</td>\n",
              "      <td>party</td>\n",
              "      <td>This hugged in all the right places! It was a ...</td>\n",
              "      <td>NaN</td>\n",
              "      <td>It was a great time to celebrate the (almost) ...</td>\n",
              "      <td>sheath</td>\n",
              "      <td>5' 4\"</td>\n",
              "      <td>4</td>\n",
              "      <td>116.0</td>\n",
              "      <td>December 14, 2015</td>\n",
              "    </tr>\n",
              "    <tr>\n",
              "      <th>3</th>\n",
              "      <td>0</td>\n",
              "      <td>909926</td>\n",
              "      <td>34c</td>\n",
              "      <td>126335</td>\n",
              "      <td>135.000000</td>\n",
              "      <td>8.0</td>\n",
              "      <td>formal affair</td>\n",
              "      <td>I rented this for my company's black tie award...</td>\n",
              "      <td>pear</td>\n",
              "      <td>Dress arrived on time and in perfect condition.</td>\n",
              "      <td>dress</td>\n",
              "      <td>5' 5\"</td>\n",
              "      <td>8</td>\n",
              "      <td>34.0</td>\n",
              "      <td>February 12, 2014</td>\n",
              "    </tr>\n",
              "    <tr>\n",
              "      <th>4</th>\n",
              "      <td>0</td>\n",
              "      <td>151944</td>\n",
              "      <td>34b</td>\n",
              "      <td>616682</td>\n",
              "      <td>145.000000</td>\n",
              "      <td>10.0</td>\n",
              "      <td>wedding</td>\n",
              "      <td>I have always been petite in my upper body and...</td>\n",
              "      <td>athletic</td>\n",
              "      <td>Was in love with this dress !!!</td>\n",
              "      <td>gown</td>\n",
              "      <td>5' 9\"</td>\n",
              "      <td>12</td>\n",
              "      <td>27.0</td>\n",
              "      <td>September 26, 2016</td>\n",
              "    </tr>\n",
              "    <tr>\n",
              "      <th>...</th>\n",
              "      <td>...</td>\n",
              "      <td>...</td>\n",
              "      <td>...</td>\n",
              "      <td>...</td>\n",
              "      <td>...</td>\n",
              "      <td>...</td>\n",
              "      <td>...</td>\n",
              "      <td>...</td>\n",
              "      <td>...</td>\n",
              "      <td>...</td>\n",
              "      <td>...</td>\n",
              "      <td>...</td>\n",
              "      <td>...</td>\n",
              "      <td>...</td>\n",
              "      <td>...</td>\n",
              "    </tr>\n",
              "    <tr>\n",
              "      <th>192539</th>\n",
              "      <td>0</td>\n",
              "      <td>66386</td>\n",
              "      <td>34dd</td>\n",
              "      <td>2252812</td>\n",
              "      <td>140.000000</td>\n",
              "      <td>10.0</td>\n",
              "      <td>work</td>\n",
              "      <td>Fit like a glove!</td>\n",
              "      <td>hourglass</td>\n",
              "      <td>LOVE IT!!! First Item Im thinking of buying!</td>\n",
              "      <td>jumpsuit</td>\n",
              "      <td>5' 9\"</td>\n",
              "      <td>8</td>\n",
              "      <td>42.0</td>\n",
              "      <td>May 18, 2016</td>\n",
              "    </tr>\n",
              "    <tr>\n",
              "      <th>192540</th>\n",
              "      <td>0</td>\n",
              "      <td>118398</td>\n",
              "      <td>32c</td>\n",
              "      <td>682043</td>\n",
              "      <td>100.000000</td>\n",
              "      <td>10.0</td>\n",
              "      <td>work</td>\n",
              "      <td>The pattern contrast on this dress is really s...</td>\n",
              "      <td>petite</td>\n",
              "      <td>LOVE it!</td>\n",
              "      <td>dress</td>\n",
              "      <td>5' 1\"</td>\n",
              "      <td>4</td>\n",
              "      <td>29.0</td>\n",
              "      <td>September 30, 2016</td>\n",
              "    </tr>\n",
              "    <tr>\n",
              "      <th>192541</th>\n",
              "      <td>0</td>\n",
              "      <td>47002</td>\n",
              "      <td>36a</td>\n",
              "      <td>683251</td>\n",
              "      <td>135.000000</td>\n",
              "      <td>6.0</td>\n",
              "      <td>everyday</td>\n",
              "      <td>Like the other DVF wraps, the fit on this is f...</td>\n",
              "      <td>straight &amp; narrow</td>\n",
              "      <td>Loud patterning, flattering fit</td>\n",
              "      <td>dress</td>\n",
              "      <td>5' 8\"</td>\n",
              "      <td>8</td>\n",
              "      <td>31.0</td>\n",
              "      <td>March 4, 2016</td>\n",
              "    </tr>\n",
              "    <tr>\n",
              "      <th>192542</th>\n",
              "      <td>0</td>\n",
              "      <td>961120</td>\n",
              "      <td>36c</td>\n",
              "      <td>126335</td>\n",
              "      <td>165.000000</td>\n",
              "      <td>10.0</td>\n",
              "      <td>wedding</td>\n",
              "      <td>This dress was PERFECTION.  it looked incredib...</td>\n",
              "      <td>pear</td>\n",
              "      <td>loved this dress it was comfortable and photog...</td>\n",
              "      <td>dress</td>\n",
              "      <td>5' 6\"</td>\n",
              "      <td>16</td>\n",
              "      <td>31.0</td>\n",
              "      <td>November 25, 2015</td>\n",
              "    </tr>\n",
              "    <tr>\n",
              "      <th>192543</th>\n",
              "      <td>0</td>\n",
              "      <td>123612</td>\n",
              "      <td>36b</td>\n",
              "      <td>127865</td>\n",
              "      <td>155.000000</td>\n",
              "      <td>10.0</td>\n",
              "      <td>wedding</td>\n",
              "      <td>This dress was wonderful! I had originally pla...</td>\n",
              "      <td>athletic</td>\n",
              "      <td>I wore this to a beautiful black tie optional ...</td>\n",
              "      <td>gown</td>\n",
              "      <td>5' 6\"</td>\n",
              "      <td>16</td>\n",
              "      <td>30.0</td>\n",
              "      <td>August 29, 2017</td>\n",
              "    </tr>\n",
              "  </tbody>\n",
              "</table>\n",
              "<p>192544 rows × 15 columns</p>\n",
              "</div>"
            ],
            "text/plain": [
              "        fit  user_id bust size  item_id  ...  height  size    age         review_date\n",
              "0         0   420272       34d  2260466  ...   5' 8\"    14   28.0      April 20, 2016\n",
              "1         0   273551       34b   153475  ...   5' 6\"    12   36.0       June 18, 2013\n",
              "2         0   360448       NaN  1063761  ...   5' 4\"     4  116.0   December 14, 2015\n",
              "3         0   909926       34c   126335  ...   5' 5\"     8   34.0   February 12, 2014\n",
              "4         0   151944       34b   616682  ...   5' 9\"    12   27.0  September 26, 2016\n",
              "...     ...      ...       ...      ...  ...     ...   ...    ...                 ...\n",
              "192539    0    66386      34dd  2252812  ...   5' 9\"     8   42.0        May 18, 2016\n",
              "192540    0   118398       32c   682043  ...   5' 1\"     4   29.0  September 30, 2016\n",
              "192541    0    47002       36a   683251  ...   5' 8\"     8   31.0       March 4, 2016\n",
              "192542    0   961120       36c   126335  ...   5' 6\"    16   31.0   November 25, 2015\n",
              "192543    0   123612       36b   127865  ...   5' 6\"    16   30.0     August 29, 2017\n",
              "\n",
              "[192544 rows x 15 columns]"
            ]
          },
          "metadata": {
            "tags": []
          },
          "execution_count": 16
        }
      ]
    },
    {
      "cell_type": "code",
      "metadata": {
        "id": "SJEnClS618pn"
      },
      "source": [
        "#not req\n",
        "def preprocess_Weight(x):\n",
        "  clothing_data['weight'] = clothing_data['weight'].apply(lambda x : int(x[:-3])                                                        if type(x) == str else x)\n",
        "  clothing_data['weight'].fillna((clothing_data['weight'].mean()), inplace=True)\n",
        "  return clothing_data"
      ],
      "execution_count": null,
      "outputs": []
    },
    {
      "cell_type": "code",
      "metadata": {
        "id": "aYmGdTk6W0y_"
      },
      "source": [
        "#not req\n",
        "def separate(x):\n",
        "  numbers = []\n",
        "  for word in x. split():\n",
        "    if word.isdigit():\n",
        "      numbers.append((word))\n",
        "    return numbers"
      ],
      "execution_count": null,
      "outputs": []
    },
    {
      "cell_type": "code",
      "metadata": {
        "id": "ZqGDbLkQYTu8"
      },
      "source": [
        "#clothing_data.loc[clothing_data['weight'].isna(), 'weight'] = np.mean(clothing_data['weight'].separate(x))\n",
        "#clothing_data['weight'] = clothing_data.separate(weight)"
      ],
      "execution_count": null,
      "outputs": []
    },
    {
      "cell_type": "code",
      "metadata": {
        "id": "EPmzxnJbZndC"
      },
      "source": [
        "#clothing_data['weight'] = clothing_data['weight'].float('weight')\n",
        "#clothing_data['weight'].fillna(int(clothing_data['weight'].mean()), inplace=True)\n",
        "#clothing_data['weight'] = clothing_data['weight'].astype(str)"
      ],
      "execution_count": null,
      "outputs": []
    },
    {
      "cell_type": "code",
      "metadata": {
        "id": "g4vpdhwyHLT3"
      },
      "source": [
        "#print(clothing_data.weight.isna().sum())"
      ],
      "execution_count": null,
      "outputs": []
    },
    {
      "cell_type": "code",
      "metadata": {
        "id": "CTALf-oZ2pgA"
      },
      "source": [
        "#plot_pie_chart(clothing_data, 'weight', \"filename.png\")\n",
        "#plot_bar_graph(clothing_data, 'weight', \"filename.png\")\n"
      ],
      "execution_count": null,
      "outputs": []
    },
    {
      "cell_type": "markdown",
      "metadata": {
        "id": "ESYj6jLvQpTp"
      },
      "source": [
        "PREPROCESSING FOR RATING\n"
      ]
    },
    {
      "cell_type": "code",
      "metadata": {
        "colab": {
          "base_uri": "https://localhost:8080/"
        },
        "id": "yG4AYUWhHldd",
        "outputId": "b31e087d-9910-436e-f68a-3bc8ee903a39"
      },
      "source": [
        "clothing_data.rating.describe()"
      ],
      "execution_count": null,
      "outputs": [
        {
          "output_type": "execute_result",
          "data": {
            "text/plain": [
              "count    192462.000000\n",
              "mean          9.092371\n",
              "std           1.430044\n",
              "min           2.000000\n",
              "25%           8.000000\n",
              "50%          10.000000\n",
              "75%          10.000000\n",
              "max          10.000000\n",
              "Name: rating, dtype: float64"
            ]
          },
          "metadata": {
            "tags": []
          },
          "execution_count": 23
        }
      ]
    },
    {
      "cell_type": "code",
      "metadata": {
        "id": "ITLJsJy9CdmX",
        "colab": {
          "base_uri": "https://localhost:8080/"
        },
        "outputId": "62608160-62a0-4297-e1c4-6c62d8487ee9"
      },
      "source": [
        "print(clothing_data.rating.isna().sum())"
      ],
      "execution_count": null,
      "outputs": [
        {
          "output_type": "stream",
          "text": [
            "82\n"
          ],
          "name": "stdout"
        }
      ]
    },
    {
      "cell_type": "code",
      "metadata": {
        "id": "WdESIbWFzNpC"
      },
      "source": [
        "clothing_data['rating'].fillna((clothing_data['rating'].mean()), inplace=True)"
      ],
      "execution_count": null,
      "outputs": []
    },
    {
      "cell_type": "code",
      "metadata": {
        "colab": {
          "base_uri": "https://localhost:8080/"
        },
        "id": "z_8Ay3o6zY-Y",
        "outputId": "a9daab8f-cc14-4b78-9cd8-c15aa43d5306"
      },
      "source": [
        "print(clothing_data.rating.isna().sum())"
      ],
      "execution_count": null,
      "outputs": [
        {
          "output_type": "stream",
          "text": [
            "0\n"
          ],
          "name": "stdout"
        }
      ]
    },
    {
      "cell_type": "code",
      "metadata": {
        "colab": {
          "base_uri": "https://localhost:8080/",
          "height": 1000
        },
        "id": "8klx-6IWUhwe",
        "outputId": "5929c76e-2c0c-48f1-fa49-6716982f1e90"
      },
      "source": [
        "plot_pie_chart(clothing_data, 'rating', \"filename.png\")\n",
        "plot_bar_graph(clothing_data, 'rating', \"filename.png\")\n",
        "plot_line_chart(clothing_data, 'rating', \"filename.png\")\n",
        "plot_hist_graph(clothing_data, 'rating', \"filename.png\")"
      ],
      "execution_count": null,
      "outputs": [
        {
          "output_type": "display_data",
          "data": {
            "image/png": "[encoded data removed]",
            "text/plain": [
              "<Figure size 432x288 with 1 Axes>"
            ]
          },
          "metadata": {
            "tags": []
          }
        },
        {
          "output_type": "display_data",
          "data": {
            "image/png": "[encoded data removed]",
            "text/plain": [
              "<Figure size 432x288 with 1 Axes>"
            ]
          },
          "metadata": {
            "tags": []
          }
        },
        {
          "output_type": "display_data",
          "data": {
            "image/png": "[encoded data removed]",
            "text/plain": [
              "<Figure size 432x288 with 1 Axes>"
            ]
          },
          "metadata": {
            "tags": []
          }
        },
        {
          "output_type": "display_data",
          "data": {
            "image/png": "[encoded data removed]",
            "text/plain": [
              "<Figure size 432x288 with 1 Axes>"
            ]
          },
          "metadata": {
            "tags": []
          }
        }
      ]
    },
    {
      "cell_type": "code",
      "metadata": {
        "id": "WYb12xyo2-u2"
      },
      "source": [
        "#clothing_data['weight'].astype('weightPounds': 'float')\n",
        "#clothing_data[\"weight\"] = clothing_data[\"weight\"].str.extract(\"(\\d+)\", expand=True)\n",
        "#clothing_data.loc[clothing_data['weight'].isna(), 'weight'] = np.mean(clothing_data['weight'].separate[])\n",
        "#clothing_data['weight'] = clothing_data['weight'].apply(lambda x: separate(x))"
      ],
      "execution_count": null,
      "outputs": []
    },
    {
      "cell_type": "markdown",
      "metadata": {
        "id": "goCwj5WfobAH"
      },
      "source": [
        "PREPROCESSING FOR BUST SIZE"
      ]
    },
    {
      "cell_type": "code",
      "metadata": {
        "id": "JJXCe2tmoea_"
      },
      "source": [
        "bust_data = clothing_data['bust size'].str.extract('([^a-zA-Z]+)([a-zA-Z]+)', expand=True)\n",
        "bust_data.columns = ['bust_size', 'bust_type']\n",
        "clothing_data = clothing_data.join(bust_data)\n",
        "clothing_data = clothing_data.astype({'bust_size': 'float'})\n",
        "clothing_data = clothing_data.drop(columns=['bust size'])"
      ],
      "execution_count": null,
      "outputs": []
    },
    {
      "cell_type": "code",
      "metadata": {
        "colab": {
          "base_uri": "https://localhost:8080/",
          "height": 949
        },
        "id": "p8OIZVMNqCUA",
        "outputId": "d5e67e49-39e1-4e25-9af4-0b4c94c6c425"
      },
      "source": [
        "clothing_data"
      ],
      "execution_count": null,
      "outputs": [
        {
          "output_type": "execute_result",
          "data": {
            "text/html": [
              "<div>\n",
              "<style scoped>\n",
              "    .dataframe tbody tr th:only-of-type {\n",
              "        vertical-align: middle;\n",
              "    }\n",
              "\n",
              "    .dataframe tbody tr th {\n",
              "        vertical-align: top;\n",
              "    }\n",
              "\n",
              "    .dataframe thead th {\n",
              "        text-align: right;\n",
              "    }\n",
              "</style>\n",
              "<table border=\"1\" class=\"dataframe\">\n",
              "  <thead>\n",
              "    <tr style=\"text-align: right;\">\n",
              "      <th></th>\n",
              "      <th>fit</th>\n",
              "      <th>user_id</th>\n",
              "      <th>item_id</th>\n",
              "      <th>weight</th>\n",
              "      <th>rating</th>\n",
              "      <th>rented for</th>\n",
              "      <th>review_text</th>\n",
              "      <th>body type</th>\n",
              "      <th>review_summary</th>\n",
              "      <th>category</th>\n",
              "      <th>height</th>\n",
              "      <th>size</th>\n",
              "      <th>age</th>\n",
              "      <th>review_date</th>\n",
              "      <th>bust_size</th>\n",
              "      <th>bust_type</th>\n",
              "    </tr>\n",
              "  </thead>\n",
              "  <tbody>\n",
              "    <tr>\n",
              "      <th>0</th>\n",
              "      <td>0</td>\n",
              "      <td>420272</td>\n",
              "      <td>2260466</td>\n",
              "      <td>137.000000</td>\n",
              "      <td>10.0</td>\n",
              "      <td>vacation</td>\n",
              "      <td>An adorable romper! Belt and zipper were a lit...</td>\n",
              "      <td>hourglass</td>\n",
              "      <td>So many compliments!</td>\n",
              "      <td>romper</td>\n",
              "      <td>5' 8\"</td>\n",
              "      <td>14</td>\n",
              "      <td>28.0</td>\n",
              "      <td>April 20, 2016</td>\n",
              "      <td>34.0</td>\n",
              "      <td>d</td>\n",
              "    </tr>\n",
              "    <tr>\n",
              "      <th>1</th>\n",
              "      <td>0</td>\n",
              "      <td>273551</td>\n",
              "      <td>153475</td>\n",
              "      <td>132.000000</td>\n",
              "      <td>10.0</td>\n",
              "      <td>other</td>\n",
              "      <td>I rented this dress for a photo shoot. The the...</td>\n",
              "      <td>straight &amp; narrow</td>\n",
              "      <td>I felt so glamourous!!!</td>\n",
              "      <td>gown</td>\n",
              "      <td>5' 6\"</td>\n",
              "      <td>12</td>\n",
              "      <td>36.0</td>\n",
              "      <td>June 18, 2013</td>\n",
              "      <td>34.0</td>\n",
              "      <td>b</td>\n",
              "    </tr>\n",
              "    <tr>\n",
              "      <th>2</th>\n",
              "      <td>0</td>\n",
              "      <td>360448</td>\n",
              "      <td>1063761</td>\n",
              "      <td>137.391709</td>\n",
              "      <td>10.0</td>\n",
              "      <td>party</td>\n",
              "      <td>This hugged in all the right places! It was a ...</td>\n",
              "      <td>NaN</td>\n",
              "      <td>It was a great time to celebrate the (almost) ...</td>\n",
              "      <td>sheath</td>\n",
              "      <td>5' 4\"</td>\n",
              "      <td>4</td>\n",
              "      <td>116.0</td>\n",
              "      <td>December 14, 2015</td>\n",
              "      <td>NaN</td>\n",
              "      <td>NaN</td>\n",
              "    </tr>\n",
              "    <tr>\n",
              "      <th>3</th>\n",
              "      <td>0</td>\n",
              "      <td>909926</td>\n",
              "      <td>126335</td>\n",
              "      <td>135.000000</td>\n",
              "      <td>8.0</td>\n",
              "      <td>formal affair</td>\n",
              "      <td>I rented this for my company's black tie award...</td>\n",
              "      <td>pear</td>\n",
              "      <td>Dress arrived on time and in perfect condition.</td>\n",
              "      <td>dress</td>\n",
              "      <td>5' 5\"</td>\n",
              "      <td>8</td>\n",
              "      <td>34.0</td>\n",
              "      <td>February 12, 2014</td>\n",
              "      <td>34.0</td>\n",
              "      <td>c</td>\n",
              "    </tr>\n",
              "    <tr>\n",
              "      <th>4</th>\n",
              "      <td>0</td>\n",
              "      <td>151944</td>\n",
              "      <td>616682</td>\n",
              "      <td>145.000000</td>\n",
              "      <td>10.0</td>\n",
              "      <td>wedding</td>\n",
              "      <td>I have always been petite in my upper body and...</td>\n",
              "      <td>athletic</td>\n",
              "      <td>Was in love with this dress !!!</td>\n",
              "      <td>gown</td>\n",
              "      <td>5' 9\"</td>\n",
              "      <td>12</td>\n",
              "      <td>27.0</td>\n",
              "      <td>September 26, 2016</td>\n",
              "      <td>34.0</td>\n",
              "      <td>b</td>\n",
              "    </tr>\n",
              "    <tr>\n",
              "      <th>...</th>\n",
              "      <td>...</td>\n",
              "      <td>...</td>\n",
              "      <td>...</td>\n",
              "      <td>...</td>\n",
              "      <td>...</td>\n",
              "      <td>...</td>\n",
              "      <td>...</td>\n",
              "      <td>...</td>\n",
              "      <td>...</td>\n",
              "      <td>...</td>\n",
              "      <td>...</td>\n",
              "      <td>...</td>\n",
              "      <td>...</td>\n",
              "      <td>...</td>\n",
              "      <td>...</td>\n",
              "      <td>...</td>\n",
              "    </tr>\n",
              "    <tr>\n",
              "      <th>192539</th>\n",
              "      <td>0</td>\n",
              "      <td>66386</td>\n",
              "      <td>2252812</td>\n",
              "      <td>140.000000</td>\n",
              "      <td>10.0</td>\n",
              "      <td>work</td>\n",
              "      <td>Fit like a glove!</td>\n",
              "      <td>hourglass</td>\n",
              "      <td>LOVE IT!!! First Item Im thinking of buying!</td>\n",
              "      <td>jumpsuit</td>\n",
              "      <td>5' 9\"</td>\n",
              "      <td>8</td>\n",
              "      <td>42.0</td>\n",
              "      <td>May 18, 2016</td>\n",
              "      <td>34.0</td>\n",
              "      <td>dd</td>\n",
              "    </tr>\n",
              "    <tr>\n",
              "      <th>192540</th>\n",
              "      <td>0</td>\n",
              "      <td>118398</td>\n",
              "      <td>682043</td>\n",
              "      <td>100.000000</td>\n",
              "      <td>10.0</td>\n",
              "      <td>work</td>\n",
              "      <td>The pattern contrast on this dress is really s...</td>\n",
              "      <td>petite</td>\n",
              "      <td>LOVE it!</td>\n",
              "      <td>dress</td>\n",
              "      <td>5' 1\"</td>\n",
              "      <td>4</td>\n",
              "      <td>29.0</td>\n",
              "      <td>September 30, 2016</td>\n",
              "      <td>32.0</td>\n",
              "      <td>c</td>\n",
              "    </tr>\n",
              "    <tr>\n",
              "      <th>192541</th>\n",
              "      <td>0</td>\n",
              "      <td>47002</td>\n",
              "      <td>683251</td>\n",
              "      <td>135.000000</td>\n",
              "      <td>6.0</td>\n",
              "      <td>everyday</td>\n",
              "      <td>Like the other DVF wraps, the fit on this is f...</td>\n",
              "      <td>straight &amp; narrow</td>\n",
              "      <td>Loud patterning, flattering fit</td>\n",
              "      <td>dress</td>\n",
              "      <td>5' 8\"</td>\n",
              "      <td>8</td>\n",
              "      <td>31.0</td>\n",
              "      <td>March 4, 2016</td>\n",
              "      <td>36.0</td>\n",
              "      <td>a</td>\n",
              "    </tr>\n",
              "    <tr>\n",
              "      <th>192542</th>\n",
              "      <td>0</td>\n",
              "      <td>961120</td>\n",
              "      <td>126335</td>\n",
              "      <td>165.000000</td>\n",
              "      <td>10.0</td>\n",
              "      <td>wedding</td>\n",
              "      <td>This dress was PERFECTION.  it looked incredib...</td>\n",
              "      <td>pear</td>\n",
              "      <td>loved this dress it was comfortable and photog...</td>\n",
              "      <td>dress</td>\n",
              "      <td>5' 6\"</td>\n",
              "      <td>16</td>\n",
              "      <td>31.0</td>\n",
              "      <td>November 25, 2015</td>\n",
              "      <td>36.0</td>\n",
              "      <td>c</td>\n",
              "    </tr>\n",
              "    <tr>\n",
              "      <th>192543</th>\n",
              "      <td>0</td>\n",
              "      <td>123612</td>\n",
              "      <td>127865</td>\n",
              "      <td>155.000000</td>\n",
              "      <td>10.0</td>\n",
              "      <td>wedding</td>\n",
              "      <td>This dress was wonderful! I had originally pla...</td>\n",
              "      <td>athletic</td>\n",
              "      <td>I wore this to a beautiful black tie optional ...</td>\n",
              "      <td>gown</td>\n",
              "      <td>5' 6\"</td>\n",
              "      <td>16</td>\n",
              "      <td>30.0</td>\n",
              "      <td>August 29, 2017</td>\n",
              "      <td>36.0</td>\n",
              "      <td>b</td>\n",
              "    </tr>\n",
              "  </tbody>\n",
              "</table>\n",
              "<p>192544 rows × 16 columns</p>\n",
              "</div>"
            ],
            "text/plain": [
              "        fit  user_id  item_id  ...         review_date  bust_size bust_type\n",
              "0         0   420272  2260466  ...      April 20, 2016       34.0         d\n",
              "1         0   273551   153475  ...       June 18, 2013       34.0         b\n",
              "2         0   360448  1063761  ...   December 14, 2015        NaN       NaN\n",
              "3         0   909926   126335  ...   February 12, 2014       34.0         c\n",
              "4         0   151944   616682  ...  September 26, 2016       34.0         b\n",
              "...     ...      ...      ...  ...                 ...        ...       ...\n",
              "192539    0    66386  2252812  ...        May 18, 2016       34.0        dd\n",
              "192540    0   118398   682043  ...  September 30, 2016       32.0         c\n",
              "192541    0    47002   683251  ...       March 4, 2016       36.0         a\n",
              "192542    0   961120   126335  ...   November 25, 2015       36.0         c\n",
              "192543    0   123612   127865  ...     August 29, 2017       36.0         b\n",
              "\n",
              "[192544 rows x 16 columns]"
            ]
          },
          "metadata": {
            "tags": []
          },
          "execution_count": 30
        }
      ]
    },
    {
      "cell_type": "code",
      "metadata": {
        "colab": {
          "base_uri": "https://localhost:8080/"
        },
        "id": "7bXM91xZsPtX",
        "outputId": "cee31ba9-e1b9-47ed-8373-3a9ffbc4a030"
      },
      "source": [
        "print(clothing_data.bust_size.isna().sum())\n",
        "print(clothing_data.bust_type.isna().sum())"
      ],
      "execution_count": null,
      "outputs": [
        {
          "output_type": "stream",
          "text": [
            "18411\n",
            "18411\n"
          ],
          "name": "stdout"
        }
      ]
    },
    {
      "cell_type": "code",
      "metadata": {
        "id": "Ez144js4rJGU"
      },
      "source": [
        "#imputing by mode\n",
        "clothing_data.loc[clothing_data['bust_size'].isna(), 'bust_size'] = clothing_data['bust_size'].value_counts().index[0]\n",
        "clothing_data.loc[clothing_data['bust_type'].isna(), 'bust_type'] = clothing_data['bust_type'].value_counts().index[0]"
      ],
      "execution_count": null,
      "outputs": []
    },
    {
      "cell_type": "code",
      "metadata": {
        "colab": {
          "base_uri": "https://localhost:8080/"
        },
        "id": "sfNO16qyr0wA",
        "outputId": "2ff45ba2-d4a2-4b51-ffed-ee9d8f1fff83"
      },
      "source": [
        "print(clothing_data.bust_size.isna().sum())\n",
        "print(clothing_data.bust_type.isna().sum())"
      ],
      "execution_count": null,
      "outputs": [
        {
          "output_type": "stream",
          "text": [
            "0\n",
            "0\n"
          ],
          "name": "stdout"
        }
      ]
    },
    {
      "cell_type": "code",
      "metadata": {
        "colab": {
          "base_uri": "https://localhost:8080/",
          "height": 949
        },
        "id": "fYc3HAP5s1o0",
        "outputId": "d4344d3f-ace7-41d2-8e16-5d0dd026af3b"
      },
      "source": [
        "clothing_data"
      ],
      "execution_count": null,
      "outputs": [
        {
          "output_type": "execute_result",
          "data": {
            "text/html": [
              "<div>\n",
              "<style scoped>\n",
              "    .dataframe tbody tr th:only-of-type {\n",
              "        vertical-align: middle;\n",
              "    }\n",
              "\n",
              "    .dataframe tbody tr th {\n",
              "        vertical-align: top;\n",
              "    }\n",
              "\n",
              "    .dataframe thead th {\n",
              "        text-align: right;\n",
              "    }\n",
              "</style>\n",
              "<table border=\"1\" class=\"dataframe\">\n",
              "  <thead>\n",
              "    <tr style=\"text-align: right;\">\n",
              "      <th></th>\n",
              "      <th>fit</th>\n",
              "      <th>user_id</th>\n",
              "      <th>item_id</th>\n",
              "      <th>weight</th>\n",
              "      <th>rating</th>\n",
              "      <th>rented for</th>\n",
              "      <th>review_text</th>\n",
              "      <th>body type</th>\n",
              "      <th>review_summary</th>\n",
              "      <th>category</th>\n",
              "      <th>height</th>\n",
              "      <th>size</th>\n",
              "      <th>age</th>\n",
              "      <th>review_date</th>\n",
              "      <th>bust_size</th>\n",
              "      <th>bust_type</th>\n",
              "    </tr>\n",
              "  </thead>\n",
              "  <tbody>\n",
              "    <tr>\n",
              "      <th>0</th>\n",
              "      <td>0</td>\n",
              "      <td>420272</td>\n",
              "      <td>2260466</td>\n",
              "      <td>137.000000</td>\n",
              "      <td>10.0</td>\n",
              "      <td>vacation</td>\n",
              "      <td>An adorable romper! Belt and zipper were a lit...</td>\n",
              "      <td>hourglass</td>\n",
              "      <td>So many compliments!</td>\n",
              "      <td>romper</td>\n",
              "      <td>5' 8\"</td>\n",
              "      <td>14</td>\n",
              "      <td>28.0</td>\n",
              "      <td>April 20, 2016</td>\n",
              "      <td>34.0</td>\n",
              "      <td>d</td>\n",
              "    </tr>\n",
              "    <tr>\n",
              "      <th>1</th>\n",
              "      <td>0</td>\n",
              "      <td>273551</td>\n",
              "      <td>153475</td>\n",
              "      <td>132.000000</td>\n",
              "      <td>10.0</td>\n",
              "      <td>other</td>\n",
              "      <td>I rented this dress for a photo shoot. The the...</td>\n",
              "      <td>straight &amp; narrow</td>\n",
              "      <td>I felt so glamourous!!!</td>\n",
              "      <td>gown</td>\n",
              "      <td>5' 6\"</td>\n",
              "      <td>12</td>\n",
              "      <td>36.0</td>\n",
              "      <td>June 18, 2013</td>\n",
              "      <td>34.0</td>\n",
              "      <td>b</td>\n",
              "    </tr>\n",
              "    <tr>\n",
              "      <th>2</th>\n",
              "      <td>0</td>\n",
              "      <td>360448</td>\n",
              "      <td>1063761</td>\n",
              "      <td>137.391709</td>\n",
              "      <td>10.0</td>\n",
              "      <td>party</td>\n",
              "      <td>This hugged in all the right places! It was a ...</td>\n",
              "      <td>NaN</td>\n",
              "      <td>It was a great time to celebrate the (almost) ...</td>\n",
              "      <td>sheath</td>\n",
              "      <td>5' 4\"</td>\n",
              "      <td>4</td>\n",
              "      <td>116.0</td>\n",
              "      <td>December 14, 2015</td>\n",
              "      <td>34.0</td>\n",
              "      <td>c</td>\n",
              "    </tr>\n",
              "    <tr>\n",
              "      <th>3</th>\n",
              "      <td>0</td>\n",
              "      <td>909926</td>\n",
              "      <td>126335</td>\n",
              "      <td>135.000000</td>\n",
              "      <td>8.0</td>\n",
              "      <td>formal affair</td>\n",
              "      <td>I rented this for my company's black tie award...</td>\n",
              "      <td>pear</td>\n",
              "      <td>Dress arrived on time and in perfect condition.</td>\n",
              "      <td>dress</td>\n",
              "      <td>5' 5\"</td>\n",
              "      <td>8</td>\n",
              "      <td>34.0</td>\n",
              "      <td>February 12, 2014</td>\n",
              "      <td>34.0</td>\n",
              "      <td>c</td>\n",
              "    </tr>\n",
              "    <tr>\n",
              "      <th>4</th>\n",
              "      <td>0</td>\n",
              "      <td>151944</td>\n",
              "      <td>616682</td>\n",
              "      <td>145.000000</td>\n",
              "      <td>10.0</td>\n",
              "      <td>wedding</td>\n",
              "      <td>I have always been petite in my upper body and...</td>\n",
              "      <td>athletic</td>\n",
              "      <td>Was in love with this dress !!!</td>\n",
              "      <td>gown</td>\n",
              "      <td>5' 9\"</td>\n",
              "      <td>12</td>\n",
              "      <td>27.0</td>\n",
              "      <td>September 26, 2016</td>\n",
              "      <td>34.0</td>\n",
              "      <td>b</td>\n",
              "    </tr>\n",
              "    <tr>\n",
              "      <th>...</th>\n",
              "      <td>...</td>\n",
              "      <td>...</td>\n",
              "      <td>...</td>\n",
              "      <td>...</td>\n",
              "      <td>...</td>\n",
              "      <td>...</td>\n",
              "      <td>...</td>\n",
              "      <td>...</td>\n",
              "      <td>...</td>\n",
              "      <td>...</td>\n",
              "      <td>...</td>\n",
              "      <td>...</td>\n",
              "      <td>...</td>\n",
              "      <td>...</td>\n",
              "      <td>...</td>\n",
              "      <td>...</td>\n",
              "    </tr>\n",
              "    <tr>\n",
              "      <th>192539</th>\n",
              "      <td>0</td>\n",
              "      <td>66386</td>\n",
              "      <td>2252812</td>\n",
              "      <td>140.000000</td>\n",
              "      <td>10.0</td>\n",
              "      <td>work</td>\n",
              "      <td>Fit like a glove!</td>\n",
              "      <td>hourglass</td>\n",
              "      <td>LOVE IT!!! First Item Im thinking of buying!</td>\n",
              "      <td>jumpsuit</td>\n",
              "      <td>5' 9\"</td>\n",
              "      <td>8</td>\n",
              "      <td>42.0</td>\n",
              "      <td>May 18, 2016</td>\n",
              "      <td>34.0</td>\n",
              "      <td>dd</td>\n",
              "    </tr>\n",
              "    <tr>\n",
              "      <th>192540</th>\n",
              "      <td>0</td>\n",
              "      <td>118398</td>\n",
              "      <td>682043</td>\n",
              "      <td>100.000000</td>\n",
              "      <td>10.0</td>\n",
              "      <td>work</td>\n",
              "      <td>The pattern contrast on this dress is really s...</td>\n",
              "      <td>petite</td>\n",
              "      <td>LOVE it!</td>\n",
              "      <td>dress</td>\n",
              "      <td>5' 1\"</td>\n",
              "      <td>4</td>\n",
              "      <td>29.0</td>\n",
              "      <td>September 30, 2016</td>\n",
              "      <td>32.0</td>\n",
              "      <td>c</td>\n",
              "    </tr>\n",
              "    <tr>\n",
              "      <th>192541</th>\n",
              "      <td>0</td>\n",
              "      <td>47002</td>\n",
              "      <td>683251</td>\n",
              "      <td>135.000000</td>\n",
              "      <td>6.0</td>\n",
              "      <td>everyday</td>\n",
              "      <td>Like the other DVF wraps, the fit on this is f...</td>\n",
              "      <td>straight &amp; narrow</td>\n",
              "      <td>Loud patterning, flattering fit</td>\n",
              "      <td>dress</td>\n",
              "      <td>5' 8\"</td>\n",
              "      <td>8</td>\n",
              "      <td>31.0</td>\n",
              "      <td>March 4, 2016</td>\n",
              "      <td>36.0</td>\n",
              "      <td>a</td>\n",
              "    </tr>\n",
              "    <tr>\n",
              "      <th>192542</th>\n",
              "      <td>0</td>\n",
              "      <td>961120</td>\n",
              "      <td>126335</td>\n",
              "      <td>165.000000</td>\n",
              "      <td>10.0</td>\n",
              "      <td>wedding</td>\n",
              "      <td>This dress was PERFECTION.  it looked incredib...</td>\n",
              "      <td>pear</td>\n",
              "      <td>loved this dress it was comfortable and photog...</td>\n",
              "      <td>dress</td>\n",
              "      <td>5' 6\"</td>\n",
              "      <td>16</td>\n",
              "      <td>31.0</td>\n",
              "      <td>November 25, 2015</td>\n",
              "      <td>36.0</td>\n",
              "      <td>c</td>\n",
              "    </tr>\n",
              "    <tr>\n",
              "      <th>192543</th>\n",
              "      <td>0</td>\n",
              "      <td>123612</td>\n",
              "      <td>127865</td>\n",
              "      <td>155.000000</td>\n",
              "      <td>10.0</td>\n",
              "      <td>wedding</td>\n",
              "      <td>This dress was wonderful! I had originally pla...</td>\n",
              "      <td>athletic</td>\n",
              "      <td>I wore this to a beautiful black tie optional ...</td>\n",
              "      <td>gown</td>\n",
              "      <td>5' 6\"</td>\n",
              "      <td>16</td>\n",
              "      <td>30.0</td>\n",
              "      <td>August 29, 2017</td>\n",
              "      <td>36.0</td>\n",
              "      <td>b</td>\n",
              "    </tr>\n",
              "  </tbody>\n",
              "</table>\n",
              "<p>192544 rows × 16 columns</p>\n",
              "</div>"
            ],
            "text/plain": [
              "        fit  user_id  item_id  ...         review_date  bust_size bust_type\n",
              "0         0   420272  2260466  ...      April 20, 2016       34.0         d\n",
              "1         0   273551   153475  ...       June 18, 2013       34.0         b\n",
              "2         0   360448  1063761  ...   December 14, 2015       34.0         c\n",
              "3         0   909926   126335  ...   February 12, 2014       34.0         c\n",
              "4         0   151944   616682  ...  September 26, 2016       34.0         b\n",
              "...     ...      ...      ...  ...                 ...        ...       ...\n",
              "192539    0    66386  2252812  ...        May 18, 2016       34.0        dd\n",
              "192540    0   118398   682043  ...  September 30, 2016       32.0         c\n",
              "192541    0    47002   683251  ...       March 4, 2016       36.0         a\n",
              "192542    0   961120   126335  ...   November 25, 2015       36.0         c\n",
              "192543    0   123612   127865  ...     August 29, 2017       36.0         b\n",
              "\n",
              "[192544 rows x 16 columns]"
            ]
          },
          "metadata": {
            "tags": []
          },
          "execution_count": 34
        }
      ]
    },
    {
      "cell_type": "code",
      "metadata": {
        "colab": {
          "base_uri": "https://localhost:8080/",
          "height": 1000
        },
        "id": "nmgTF6iXtVlI",
        "outputId": "655133bc-a3af-41cf-f990-183dfcd50d95"
      },
      "source": [
        "plot_pie_chart(clothing_data, 'bust_size', \"filename.png\")\n",
        "plot_bar_graph(clothing_data, 'bust_type', \"filename.png\")\n",
        "plot_line_chart(clothing_data, 'bust_size', \"filename.png\")\n",
        "plot_hist_graph(clothing_data, 'bust_size', \"filename.png\")\n",
        "plot_line_chart(clothing_data, 'bust_type', \"filename.png\")\n"
      ],
      "execution_count": null,
      "outputs": [
        {
          "output_type": "display_data",
          "data": {
            "image/png": "[encoded data removed]",
            "text/plain": [
              "<Figure size 432x288 with 1 Axes>"
            ]
          },
          "metadata": {
            "tags": []
          }
        },
        {
          "output_type": "display_data",
          "data": {
            "image/png": "[encoded data removed]",
            "text/plain": [
              "<Figure size 432x288 with 1 Axes>"
            ]
          },
          "metadata": {
            "tags": []
          }
        },
        {
          "output_type": "display_data",
          "data": {
            "image/png": "[encoded data removed]",
            "text/plain": [
              "<Figure size 432x288 with 1 Axes>"
            ]
          },
          "metadata": {
            "tags": []
          }
        },
        {
          "output_type": "display_data",
          "data": {
            "image/png": "[encoded data removed]",
            "text/plain": [
              "<Figure size 432x288 with 1 Axes>"
            ]
          },
          "metadata": {
            "tags": []
          }
        },
        {
          "output_type": "display_data",
          "data": {
            "image/png": "[encoded data removed]",
            "text/plain": [
              "<Figure size 432x288 with 1 Axes>"
            ]
          },
          "metadata": {
            "tags": []
          }
        }
      ]
    },
    {
      "cell_type": "markdown",
      "metadata": {
        "id": "AwzJWlkiuFe2"
      },
      "source": [
        "Combining all into 1 block"
      ]
    },
    {
      "cell_type": "code",
      "metadata": {
        "id": "7_k89PdDuMz_"
      },
      "source": [
        "#modifying fit column\n",
        "def compare_fit(x):\n",
        "  if x == 'fit':\n",
        "    return 0\n",
        "  elif x == 'small':\n",
        "    return -1\n",
        "  else:\n",
        "    return 1\n",
        "  \n",
        "\n",
        "def preprocessing_1(df):\n",
        "  \n",
        "  #preprocessing for fit\n",
        "  #df['fit'] = df['fit'].apply(lambda x: compare_fit(x))\n",
        "  #plot_pie_chart(df, 'fit', \"filename.png\")\n",
        "  \n",
        "  #preprocessing for rating\n",
        "  df['rating'].fillna((df['rating'].mean()), inplace=True)\n",
        "  #plot_line_chart(df, 'rating', \"filename.png\")\n",
        "  \n",
        "  #preprocessing weight\n",
        "  df[\"weight\"] = df[\"weight\"].str.extract(\"(\\d+)\", expand=True)\n",
        "  #df[['weight']].head\n",
        "  df = df.astype({'weight': 'float'})\n",
        "  df['weight'].fillna((df['weight'].mean()), inplace=True)\n",
        "  #plot_line_chart(df, 'weight', \"filename.png\")\n",
        "  \n",
        "\n",
        "  #preprocessing bust size\n",
        "  bust_data = df['bust size'].str.extract('([^a-zA-Z]+)([a-zA-Z]+)', expand=True)\n",
        "  bust_data.columns = ['bust_size', 'bust_type']\n",
        "  df = df.join(bust_data)\n",
        "  df = df.astype({'bust_size': 'float'})\n",
        "  df = df.drop(columns=['bust size'])\n",
        "\n",
        "  df.loc[df['bust_size'].isna(), 'bust_size'] = df['bust_size'].value_counts().index[0]\n",
        "  df.loc[df['bust_type'].isna(), 'bust_type'] = df['bust_type'].value_counts().index[0]\n",
        "\n",
        "  #plot_line_chart(df, 'bust_size', \"filename.png\")\n",
        "  #plot_line_chart(df, 'bust_type', \"filename.png\")\n",
        "\n",
        "  return df\n",
        "\n",
        "  "
      ],
      "execution_count": 10,
      "outputs": []
    },
    {
      "cell_type": "code",
      "metadata": {
        "id": "US77WKvdr8Ow"
      },
      "source": [
        "import math\n",
        "def inches_from_feet(feet):\n",
        "  if type(feet) != str and math.isnan(feet):\n",
        "    return float('nan')\n",
        "  else:\n",
        "    return 12 * int(feet[0]) + int(feet[3])\n",
        "\n",
        "\n",
        "def convert_size(size):\n",
        "  if size < 5:\n",
        "    return \"XS\"\n",
        "  elif size < 10:\n",
        "    return \"S\"\n",
        "  elif size < 15:\n",
        "    return \"M\"\n",
        "  elif size < 20:\n",
        "    return \"L\"\n",
        "  else:\n",
        "    return \"XL\"\n",
        "\n",
        "def mark_rare_categories(category, counts):\n",
        "  if counts[category] < 100:\n",
        "    return \"Others\"\n",
        "  return category\n",
        "\n",
        "\n",
        "# Return processed df\n",
        "def preprocessing_3(df):\n",
        "\n",
        "  replace_category = {\n",
        "    'culotte': 'culottes',\n",
        "    'legging': 'leggings',\n",
        "    'pant': 'pants',\n",
        "    'skirt': 'skirts', \n",
        "    'skort': 'skirts',\n",
        "    'trouser': 'trousers',\n",
        "    'cami': 'crewneck', \n",
        "    'henley': 'crewneck', \n",
        "    'duster': 'crewneck',\n",
        "    'sheath': 'shift',\n",
        "    'down': 'gown'\n",
        "  }\n",
        "  df['category'].replace(replace_category, inplace = True)\n",
        "  category_count = df['category'].value_counts()\n",
        "  df['category'] = df['category'].apply(lambda x: mark_rare_categories(x, category_count))\n",
        "  # all_categories = {}\n",
        "  # for index, val in enumerate(sorted(df['category'].unique())):\n",
        "  #   all_categories[val] = index\n",
        "  # df['category'] = df['category'].apply(lambda x: all_categories[x])\n",
        "  # plot_hist_graph(df, 'category', 'filename.png')\n",
        "\n",
        "\n",
        "  # Processing height\n",
        "  df['height'] = df['height'].apply(lambda x: inches_from_feet(x))\n",
        "  df['height'].fillna(int(df['height'].mean()), inplace=True)\n",
        "  # plot_line_chart(df, 'height', \"filename.png\")\n",
        "\n",
        "\n",
        "  # Processing size\n",
        "  # plot_line_chart(df, 'size', \"filename.png\")\n",
        "  df['size'] = df['size'].apply(lambda x: convert_size(x))\n",
        "  # plot_pie_chart(df, 'size', \"filename.png\")\n",
        "\n",
        "  # Processing age\n",
        "  median_age = df['age'].median()\n",
        "  df['age'].fillna(median_age, inplace=True)\n",
        "  df.loc[((df['age'] == 0) | (df['age'] >= 100)), 'age'] = median_age\n",
        "  # plot_line_chart(df, 'age', \"filename.png\")\n",
        "  \n",
        "  return df"
      ],
      "execution_count": 11,
      "outputs": []
    },
    {
      "cell_type": "code",
      "metadata": {
        "colab": {
          "base_uri": "https://localhost:8080/",
          "height": 810
        },
        "id": "JghpSjTrs4Ea",
        "outputId": "90c93294-c78f-4866-b531-8f33c53817c7"
      },
      "source": [
        "clothing_data1 = preprocessing_1(clothing_data.copy())\n",
        "#clothing_data2 = preprocessing_2(clothing_data1.copy())\n",
        "clothing_data3 = preprocessing_3(clothing_data1.copy())\n",
        "clothing_data_processed = clothing_data3.drop(['review_date'], axis=1)\n",
        "clothing_data_processed\n"
      ],
      "execution_count": 12,
      "outputs": [
        {
          "output_type": "execute_result",
          "data": {
            "text/html": [
              "<div>\n",
              "<style scoped>\n",
              "    .dataframe tbody tr th:only-of-type {\n",
              "        vertical-align: middle;\n",
              "    }\n",
              "\n",
              "    .dataframe tbody tr th {\n",
              "        vertical-align: top;\n",
              "    }\n",
              "\n",
              "    .dataframe thead th {\n",
              "        text-align: right;\n",
              "    }\n",
              "</style>\n",
              "<table border=\"1\" class=\"dataframe\">\n",
              "  <thead>\n",
              "    <tr style=\"text-align: right;\">\n",
              "      <th></th>\n",
              "      <th>fit</th>\n",
              "      <th>user_id</th>\n",
              "      <th>item_id</th>\n",
              "      <th>weight</th>\n",
              "      <th>rating</th>\n",
              "      <th>rented for</th>\n",
              "      <th>review_text</th>\n",
              "      <th>body type</th>\n",
              "      <th>review_summary</th>\n",
              "      <th>category</th>\n",
              "      <th>height</th>\n",
              "      <th>size</th>\n",
              "      <th>age</th>\n",
              "      <th>bust_size</th>\n",
              "      <th>bust_type</th>\n",
              "    </tr>\n",
              "  </thead>\n",
              "  <tbody>\n",
              "    <tr>\n",
              "      <th>0</th>\n",
              "      <td>fit</td>\n",
              "      <td>420272</td>\n",
              "      <td>2260466</td>\n",
              "      <td>137.000000</td>\n",
              "      <td>10.0</td>\n",
              "      <td>vacation</td>\n",
              "      <td>An adorable romper! Belt and zipper were a lit...</td>\n",
              "      <td>hourglass</td>\n",
              "      <td>So many compliments!</td>\n",
              "      <td>romper</td>\n",
              "      <td>68.0</td>\n",
              "      <td>M</td>\n",
              "      <td>28.0</td>\n",
              "      <td>34.0</td>\n",
              "      <td>d</td>\n",
              "    </tr>\n",
              "    <tr>\n",
              "      <th>1</th>\n",
              "      <td>fit</td>\n",
              "      <td>273551</td>\n",
              "      <td>153475</td>\n",
              "      <td>132.000000</td>\n",
              "      <td>10.0</td>\n",
              "      <td>other</td>\n",
              "      <td>I rented this dress for a photo shoot. The the...</td>\n",
              "      <td>straight &amp; narrow</td>\n",
              "      <td>I felt so glamourous!!!</td>\n",
              "      <td>gown</td>\n",
              "      <td>66.0</td>\n",
              "      <td>M</td>\n",
              "      <td>36.0</td>\n",
              "      <td>34.0</td>\n",
              "      <td>b</td>\n",
              "    </tr>\n",
              "    <tr>\n",
              "      <th>2</th>\n",
              "      <td>fit</td>\n",
              "      <td>360448</td>\n",
              "      <td>1063761</td>\n",
              "      <td>137.391709</td>\n",
              "      <td>10.0</td>\n",
              "      <td>party</td>\n",
              "      <td>This hugged in all the right places! It was a ...</td>\n",
              "      <td>NaN</td>\n",
              "      <td>It was a great time to celebrate the (almost) ...</td>\n",
              "      <td>shift</td>\n",
              "      <td>64.0</td>\n",
              "      <td>XS</td>\n",
              "      <td>32.0</td>\n",
              "      <td>34.0</td>\n",
              "      <td>c</td>\n",
              "    </tr>\n",
              "    <tr>\n",
              "      <th>3</th>\n",
              "      <td>fit</td>\n",
              "      <td>909926</td>\n",
              "      <td>126335</td>\n",
              "      <td>135.000000</td>\n",
              "      <td>8.0</td>\n",
              "      <td>formal affair</td>\n",
              "      <td>I rented this for my company's black tie award...</td>\n",
              "      <td>pear</td>\n",
              "      <td>Dress arrived on time and in perfect condition.</td>\n",
              "      <td>dress</td>\n",
              "      <td>65.0</td>\n",
              "      <td>S</td>\n",
              "      <td>34.0</td>\n",
              "      <td>34.0</td>\n",
              "      <td>c</td>\n",
              "    </tr>\n",
              "    <tr>\n",
              "      <th>4</th>\n",
              "      <td>fit</td>\n",
              "      <td>151944</td>\n",
              "      <td>616682</td>\n",
              "      <td>145.000000</td>\n",
              "      <td>10.0</td>\n",
              "      <td>wedding</td>\n",
              "      <td>I have always been petite in my upper body and...</td>\n",
              "      <td>athletic</td>\n",
              "      <td>Was in love with this dress !!!</td>\n",
              "      <td>gown</td>\n",
              "      <td>69.0</td>\n",
              "      <td>M</td>\n",
              "      <td>27.0</td>\n",
              "      <td>34.0</td>\n",
              "      <td>b</td>\n",
              "    </tr>\n",
              "    <tr>\n",
              "      <th>...</th>\n",
              "      <td>...</td>\n",
              "      <td>...</td>\n",
              "      <td>...</td>\n",
              "      <td>...</td>\n",
              "      <td>...</td>\n",
              "      <td>...</td>\n",
              "      <td>...</td>\n",
              "      <td>...</td>\n",
              "      <td>...</td>\n",
              "      <td>...</td>\n",
              "      <td>...</td>\n",
              "      <td>...</td>\n",
              "      <td>...</td>\n",
              "      <td>...</td>\n",
              "      <td>...</td>\n",
              "    </tr>\n",
              "    <tr>\n",
              "      <th>192539</th>\n",
              "      <td>fit</td>\n",
              "      <td>66386</td>\n",
              "      <td>2252812</td>\n",
              "      <td>140.000000</td>\n",
              "      <td>10.0</td>\n",
              "      <td>work</td>\n",
              "      <td>Fit like a glove!</td>\n",
              "      <td>hourglass</td>\n",
              "      <td>LOVE IT!!! First Item Im thinking of buying!</td>\n",
              "      <td>jumpsuit</td>\n",
              "      <td>69.0</td>\n",
              "      <td>S</td>\n",
              "      <td>42.0</td>\n",
              "      <td>34.0</td>\n",
              "      <td>dd</td>\n",
              "    </tr>\n",
              "    <tr>\n",
              "      <th>192540</th>\n",
              "      <td>fit</td>\n",
              "      <td>118398</td>\n",
              "      <td>682043</td>\n",
              "      <td>100.000000</td>\n",
              "      <td>10.0</td>\n",
              "      <td>work</td>\n",
              "      <td>The pattern contrast on this dress is really s...</td>\n",
              "      <td>petite</td>\n",
              "      <td>LOVE it!</td>\n",
              "      <td>dress</td>\n",
              "      <td>61.0</td>\n",
              "      <td>XS</td>\n",
              "      <td>29.0</td>\n",
              "      <td>32.0</td>\n",
              "      <td>c</td>\n",
              "    </tr>\n",
              "    <tr>\n",
              "      <th>192541</th>\n",
              "      <td>fit</td>\n",
              "      <td>47002</td>\n",
              "      <td>683251</td>\n",
              "      <td>135.000000</td>\n",
              "      <td>6.0</td>\n",
              "      <td>everyday</td>\n",
              "      <td>Like the other DVF wraps, the fit on this is f...</td>\n",
              "      <td>straight &amp; narrow</td>\n",
              "      <td>Loud patterning, flattering fit</td>\n",
              "      <td>dress</td>\n",
              "      <td>68.0</td>\n",
              "      <td>S</td>\n",
              "      <td>31.0</td>\n",
              "      <td>36.0</td>\n",
              "      <td>a</td>\n",
              "    </tr>\n",
              "    <tr>\n",
              "      <th>192542</th>\n",
              "      <td>fit</td>\n",
              "      <td>961120</td>\n",
              "      <td>126335</td>\n",
              "      <td>165.000000</td>\n",
              "      <td>10.0</td>\n",
              "      <td>wedding</td>\n",
              "      <td>This dress was PERFECTION.  it looked incredib...</td>\n",
              "      <td>pear</td>\n",
              "      <td>loved this dress it was comfortable and photog...</td>\n",
              "      <td>dress</td>\n",
              "      <td>66.0</td>\n",
              "      <td>L</td>\n",
              "      <td>31.0</td>\n",
              "      <td>36.0</td>\n",
              "      <td>c</td>\n",
              "    </tr>\n",
              "    <tr>\n",
              "      <th>192543</th>\n",
              "      <td>fit</td>\n",
              "      <td>123612</td>\n",
              "      <td>127865</td>\n",
              "      <td>155.000000</td>\n",
              "      <td>10.0</td>\n",
              "      <td>wedding</td>\n",
              "      <td>This dress was wonderful! I had originally pla...</td>\n",
              "      <td>athletic</td>\n",
              "      <td>I wore this to a beautiful black tie optional ...</td>\n",
              "      <td>gown</td>\n",
              "      <td>66.0</td>\n",
              "      <td>L</td>\n",
              "      <td>30.0</td>\n",
              "      <td>36.0</td>\n",
              "      <td>b</td>\n",
              "    </tr>\n",
              "  </tbody>\n",
              "</table>\n",
              "<p>192544 rows × 15 columns</p>\n",
              "</div>"
            ],
            "text/plain": [
              "        fit  user_id  item_id      weight  ...  size   age bust_size bust_type\n",
              "0       fit   420272  2260466  137.000000  ...     M  28.0      34.0         d\n",
              "1       fit   273551   153475  132.000000  ...     M  36.0      34.0         b\n",
              "2       fit   360448  1063761  137.391709  ...    XS  32.0      34.0         c\n",
              "3       fit   909926   126335  135.000000  ...     S  34.0      34.0         c\n",
              "4       fit   151944   616682  145.000000  ...     M  27.0      34.0         b\n",
              "...     ...      ...      ...         ...  ...   ...   ...       ...       ...\n",
              "192539  fit    66386  2252812  140.000000  ...     S  42.0      34.0        dd\n",
              "192540  fit   118398   682043  100.000000  ...    XS  29.0      32.0         c\n",
              "192541  fit    47002   683251  135.000000  ...     S  31.0      36.0         a\n",
              "192542  fit   961120   126335  165.000000  ...     L  31.0      36.0         c\n",
              "192543  fit   123612   127865  155.000000  ...     L  30.0      36.0         b\n",
              "\n",
              "[192544 rows x 15 columns]"
            ]
          },
          "metadata": {
            "tags": []
          },
          "execution_count": 12
        }
      ]
    },
    {
      "cell_type": "markdown",
      "metadata": {
        "id": "aKEq3CgWjuwQ"
      },
      "source": [
        "## Neural network based CF"
      ]
    },
    {
      "cell_type": "code",
      "metadata": {
        "id": "ct-ZbZXg19fs"
      },
      "source": [
        "from surprise import Dataset\n",
        "from surprise import Reader\n",
        "from surprise import BaselineOnly\n",
        "\n",
        "import random\n",
        "import tensorflow as tf\n",
        "from tensorflow import keras\n",
        "from tensorflow.keras import layers\n",
        "from pathlib import Path\n",
        "from surprise.model_selection import train_test_split\n",
        "\n",
        "from surprise import KNNWithMeans  #Memory based, Collaborative Based Filtering\n",
        "from surprise import SVD  #Model Based, Matrix Factorization\n",
        "\n",
        "from surprise.model_selection import GridSearchCV\n",
        "\n",
        "from surprise import accuracy"
      ],
      "execution_count": 13,
      "outputs": []
    },
    {
      "cell_type": "code",
      "metadata": {
        "id": "RnC7OjsJjuWV"
      },
      "source": [
        "#list out all users, no repetition of users and place an index to each user.\n",
        "user_ids = clothing_data_processed[\"user_id\"].unique().tolist()\n",
        "\n",
        "#index all the unique users\n",
        "user_encoded = {x: i for i, x in enumerate(user_ids)}\n",
        "#print(user_encoded)\n",
        "\n",
        "userencoded2user = {i: x for i, x in enumerate(user_ids)}\n",
        "#print(userencoded2user)"
      ],
      "execution_count": 14,
      "outputs": []
    },
    {
      "cell_type": "code",
      "metadata": {
        "id": "yziyMn0FkYSZ"
      },
      "source": [
        "#list out all items, no repetition of items and place an index to each item.\n",
        "items_ids = clothing_data_processed[\"item_id\"].unique().tolist()\n",
        "items_encoded = {x: i for i, x in enumerate(items_ids)}\n",
        "#print(items_encoded)\n",
        "\n",
        "items_encoded2items = {i: x for i, x in enumerate(items_ids)}\n",
        "#print(items_encoded2items)"
      ],
      "execution_count": 15,
      "outputs": []
    },
    {
      "cell_type": "code",
      "metadata": {
        "colab": {
          "base_uri": "https://localhost:8080/",
          "height": 949
        },
        "id": "x-A9sBphlGz-",
        "outputId": "3fb4b970-df2e-45f0-ea2d-5df8aeb778ff"
      },
      "source": [
        "clothing_data_processed_new = clothing_data_processed.copy()\n",
        "clothing_data_processed_new[\"userfind\"] = clothing_data_processed_new[\"user_id\"].map(user_encoded)\n",
        "clothing_data_processed_new[\"itemfind\"] = clothing_data_processed_new[\"item_id\"].map(items_encoded)\n",
        "\n",
        "clothing_data_processed_new"
      ],
      "execution_count": 16,
      "outputs": [
        {
          "output_type": "execute_result",
          "data": {
            "text/html": [
              "<div>\n",
              "<style scoped>\n",
              "    .dataframe tbody tr th:only-of-type {\n",
              "        vertical-align: middle;\n",
              "    }\n",
              "\n",
              "    .dataframe tbody tr th {\n",
              "        vertical-align: top;\n",
              "    }\n",
              "\n",
              "    .dataframe thead th {\n",
              "        text-align: right;\n",
              "    }\n",
              "</style>\n",
              "<table border=\"1\" class=\"dataframe\">\n",
              "  <thead>\n",
              "    <tr style=\"text-align: right;\">\n",
              "      <th></th>\n",
              "      <th>fit</th>\n",
              "      <th>user_id</th>\n",
              "      <th>item_id</th>\n",
              "      <th>weight</th>\n",
              "      <th>rating</th>\n",
              "      <th>rented for</th>\n",
              "      <th>review_text</th>\n",
              "      <th>body type</th>\n",
              "      <th>review_summary</th>\n",
              "      <th>category</th>\n",
              "      <th>height</th>\n",
              "      <th>size</th>\n",
              "      <th>age</th>\n",
              "      <th>bust_size</th>\n",
              "      <th>bust_type</th>\n",
              "      <th>userfind</th>\n",
              "      <th>itemfind</th>\n",
              "    </tr>\n",
              "  </thead>\n",
              "  <tbody>\n",
              "    <tr>\n",
              "      <th>0</th>\n",
              "      <td>fit</td>\n",
              "      <td>420272</td>\n",
              "      <td>2260466</td>\n",
              "      <td>137.000000</td>\n",
              "      <td>10.0</td>\n",
              "      <td>vacation</td>\n",
              "      <td>An adorable romper! Belt and zipper were a lit...</td>\n",
              "      <td>hourglass</td>\n",
              "      <td>So many compliments!</td>\n",
              "      <td>romper</td>\n",
              "      <td>68.0</td>\n",
              "      <td>M</td>\n",
              "      <td>28.0</td>\n",
              "      <td>34.0</td>\n",
              "      <td>d</td>\n",
              "      <td>0</td>\n",
              "      <td>0</td>\n",
              "    </tr>\n",
              "    <tr>\n",
              "      <th>1</th>\n",
              "      <td>fit</td>\n",
              "      <td>273551</td>\n",
              "      <td>153475</td>\n",
              "      <td>132.000000</td>\n",
              "      <td>10.0</td>\n",
              "      <td>other</td>\n",
              "      <td>I rented this dress for a photo shoot. The the...</td>\n",
              "      <td>straight &amp; narrow</td>\n",
              "      <td>I felt so glamourous!!!</td>\n",
              "      <td>gown</td>\n",
              "      <td>66.0</td>\n",
              "      <td>M</td>\n",
              "      <td>36.0</td>\n",
              "      <td>34.0</td>\n",
              "      <td>b</td>\n",
              "      <td>1</td>\n",
              "      <td>1</td>\n",
              "    </tr>\n",
              "    <tr>\n",
              "      <th>2</th>\n",
              "      <td>fit</td>\n",
              "      <td>360448</td>\n",
              "      <td>1063761</td>\n",
              "      <td>137.391709</td>\n",
              "      <td>10.0</td>\n",
              "      <td>party</td>\n",
              "      <td>This hugged in all the right places! It was a ...</td>\n",
              "      <td>NaN</td>\n",
              "      <td>It was a great time to celebrate the (almost) ...</td>\n",
              "      <td>shift</td>\n",
              "      <td>64.0</td>\n",
              "      <td>XS</td>\n",
              "      <td>32.0</td>\n",
              "      <td>34.0</td>\n",
              "      <td>c</td>\n",
              "      <td>2</td>\n",
              "      <td>2</td>\n",
              "    </tr>\n",
              "    <tr>\n",
              "      <th>3</th>\n",
              "      <td>fit</td>\n",
              "      <td>909926</td>\n",
              "      <td>126335</td>\n",
              "      <td>135.000000</td>\n",
              "      <td>8.0</td>\n",
              "      <td>formal affair</td>\n",
              "      <td>I rented this for my company's black tie award...</td>\n",
              "      <td>pear</td>\n",
              "      <td>Dress arrived on time and in perfect condition.</td>\n",
              "      <td>dress</td>\n",
              "      <td>65.0</td>\n",
              "      <td>S</td>\n",
              "      <td>34.0</td>\n",
              "      <td>34.0</td>\n",
              "      <td>c</td>\n",
              "      <td>3</td>\n",
              "      <td>3</td>\n",
              "    </tr>\n",
              "    <tr>\n",
              "      <th>4</th>\n",
              "      <td>fit</td>\n",
              "      <td>151944</td>\n",
              "      <td>616682</td>\n",
              "      <td>145.000000</td>\n",
              "      <td>10.0</td>\n",
              "      <td>wedding</td>\n",
              "      <td>I have always been petite in my upper body and...</td>\n",
              "      <td>athletic</td>\n",
              "      <td>Was in love with this dress !!!</td>\n",
              "      <td>gown</td>\n",
              "      <td>69.0</td>\n",
              "      <td>M</td>\n",
              "      <td>27.0</td>\n",
              "      <td>34.0</td>\n",
              "      <td>b</td>\n",
              "      <td>4</td>\n",
              "      <td>4</td>\n",
              "    </tr>\n",
              "    <tr>\n",
              "      <th>...</th>\n",
              "      <td>...</td>\n",
              "      <td>...</td>\n",
              "      <td>...</td>\n",
              "      <td>...</td>\n",
              "      <td>...</td>\n",
              "      <td>...</td>\n",
              "      <td>...</td>\n",
              "      <td>...</td>\n",
              "      <td>...</td>\n",
              "      <td>...</td>\n",
              "      <td>...</td>\n",
              "      <td>...</td>\n",
              "      <td>...</td>\n",
              "      <td>...</td>\n",
              "      <td>...</td>\n",
              "      <td>...</td>\n",
              "      <td>...</td>\n",
              "    </tr>\n",
              "    <tr>\n",
              "      <th>192539</th>\n",
              "      <td>fit</td>\n",
              "      <td>66386</td>\n",
              "      <td>2252812</td>\n",
              "      <td>140.000000</td>\n",
              "      <td>10.0</td>\n",
              "      <td>work</td>\n",
              "      <td>Fit like a glove!</td>\n",
              "      <td>hourglass</td>\n",
              "      <td>LOVE IT!!! First Item Im thinking of buying!</td>\n",
              "      <td>jumpsuit</td>\n",
              "      <td>69.0</td>\n",
              "      <td>S</td>\n",
              "      <td>42.0</td>\n",
              "      <td>34.0</td>\n",
              "      <td>dd</td>\n",
              "      <td>34375</td>\n",
              "      <td>2197</td>\n",
              "    </tr>\n",
              "    <tr>\n",
              "      <th>192540</th>\n",
              "      <td>fit</td>\n",
              "      <td>118398</td>\n",
              "      <td>682043</td>\n",
              "      <td>100.000000</td>\n",
              "      <td>10.0</td>\n",
              "      <td>work</td>\n",
              "      <td>The pattern contrast on this dress is really s...</td>\n",
              "      <td>petite</td>\n",
              "      <td>LOVE it!</td>\n",
              "      <td>dress</td>\n",
              "      <td>61.0</td>\n",
              "      <td>XS</td>\n",
              "      <td>29.0</td>\n",
              "      <td>32.0</td>\n",
              "      <td>c</td>\n",
              "      <td>30897</td>\n",
              "      <td>2414</td>\n",
              "    </tr>\n",
              "    <tr>\n",
              "      <th>192541</th>\n",
              "      <td>fit</td>\n",
              "      <td>47002</td>\n",
              "      <td>683251</td>\n",
              "      <td>135.000000</td>\n",
              "      <td>6.0</td>\n",
              "      <td>everyday</td>\n",
              "      <td>Like the other DVF wraps, the fit on this is f...</td>\n",
              "      <td>straight &amp; narrow</td>\n",
              "      <td>Loud patterning, flattering fit</td>\n",
              "      <td>dress</td>\n",
              "      <td>68.0</td>\n",
              "      <td>S</td>\n",
              "      <td>31.0</td>\n",
              "      <td>36.0</td>\n",
              "      <td>a</td>\n",
              "      <td>1215</td>\n",
              "      <td>1611</td>\n",
              "    </tr>\n",
              "    <tr>\n",
              "      <th>192542</th>\n",
              "      <td>fit</td>\n",
              "      <td>961120</td>\n",
              "      <td>126335</td>\n",
              "      <td>165.000000</td>\n",
              "      <td>10.0</td>\n",
              "      <td>wedding</td>\n",
              "      <td>This dress was PERFECTION.  it looked incredib...</td>\n",
              "      <td>pear</td>\n",
              "      <td>loved this dress it was comfortable and photog...</td>\n",
              "      <td>dress</td>\n",
              "      <td>66.0</td>\n",
              "      <td>L</td>\n",
              "      <td>31.0</td>\n",
              "      <td>36.0</td>\n",
              "      <td>c</td>\n",
              "      <td>105569</td>\n",
              "      <td>3</td>\n",
              "    </tr>\n",
              "    <tr>\n",
              "      <th>192543</th>\n",
              "      <td>fit</td>\n",
              "      <td>123612</td>\n",
              "      <td>127865</td>\n",
              "      <td>155.000000</td>\n",
              "      <td>10.0</td>\n",
              "      <td>wedding</td>\n",
              "      <td>This dress was wonderful! I had originally pla...</td>\n",
              "      <td>athletic</td>\n",
              "      <td>I wore this to a beautiful black tie optional ...</td>\n",
              "      <td>gown</td>\n",
              "      <td>66.0</td>\n",
              "      <td>L</td>\n",
              "      <td>30.0</td>\n",
              "      <td>36.0</td>\n",
              "      <td>b</td>\n",
              "      <td>105570</td>\n",
              "      <td>157</td>\n",
              "    </tr>\n",
              "  </tbody>\n",
              "</table>\n",
              "<p>192544 rows × 17 columns</p>\n",
              "</div>"
            ],
            "text/plain": [
              "        fit  user_id  item_id  ...  bust_type  userfind itemfind\n",
              "0       fit   420272  2260466  ...          d         0        0\n",
              "1       fit   273551   153475  ...          b         1        1\n",
              "2       fit   360448  1063761  ...          c         2        2\n",
              "3       fit   909926   126335  ...          c         3        3\n",
              "4       fit   151944   616682  ...          b         4        4\n",
              "...     ...      ...      ...  ...        ...       ...      ...\n",
              "192539  fit    66386  2252812  ...         dd     34375     2197\n",
              "192540  fit   118398   682043  ...          c     30897     2414\n",
              "192541  fit    47002   683251  ...          a      1215     1611\n",
              "192542  fit   961120   126335  ...          c    105569        3\n",
              "192543  fit   123612   127865  ...          b    105570      157\n",
              "\n",
              "[192544 rows x 17 columns]"
            ]
          },
          "metadata": {
            "tags": []
          },
          "execution_count": 16
        }
      ]
    },
    {
      "cell_type": "code",
      "metadata": {
        "colab": {
          "base_uri": "https://localhost:8080/"
        },
        "id": "ns8N6AYkmX_a",
        "outputId": "560da34c-0f54-4a46-ac81-609d44a2da2e"
      },
      "source": [
        "num_users = len(user_encoded)\n",
        "num_items = len(items_encoded2items)\n",
        "\n",
        "clothing_data_processed_new[\"rating\"] = clothing_data_processed_new[\"rating\"].values.astype(np.float32)\n",
        "\n",
        "# min and max ratings will be used to normalize the ratings later\n",
        "min_rating = min(clothing_data_processed_new[\"rating\"])\n",
        "max_rating = max(clothing_data_processed_new[\"rating\"])\n",
        "\n",
        "print(\n",
        "    \"Number of users: {}, Number of items: {}, Min rating: {}, Max rating: {}\".format(\n",
        "        num_users, num_items, min_rating, max_rating\n",
        "    )\n",
        ")"
      ],
      "execution_count": 17,
      "outputs": [
        {
          "output_type": "stream",
          "text": [
            "Number of users: 105571, Number of items: 5850, Min rating: 2.0, Max rating: 10.0\n"
          ],
          "name": "stdout"
        }
      ]
    },
    {
      "cell_type": "code",
      "metadata": {
        "id": "qxpMLTdtmyRS"
      },
      "source": [
        "#Prepare training and validation data, set seed, normalise rating\n",
        "\n",
        "clothing_data_processed_new = clothing_data_processed_new.sample(frac=1, random_state=123)\n",
        "x = clothing_data_processed_new[[\"userfind\", \"itemfind\"]].values\n",
        "\n",
        "# Normalize the targets between 0 and 1. Makes it easy to train.\n",
        "y = clothing_data_processed_new[\"rating\"].apply(lambda x: (x - min_rating) / (max_rating - min_rating)).values\n",
        "\n",
        "# Assuming training on 80% of the data and validating on 20%.\n",
        "train_indices = int(0.80 * clothing_data_processed_new.shape[0])  #take 80% of the rows as training data\n",
        "\n",
        "x_train, x_val, y_train, y_val = (\n",
        "    x[:train_indices],\n",
        "    x[train_indices:],\n",
        "    y[:train_indices],\n",
        "    y[train_indices:],\n",
        ")"
      ],
      "execution_count": 18,
      "outputs": []
    },
    {
      "cell_type": "markdown",
      "metadata": {
        "id": "8-Jqro9LpH9m"
      },
      "source": [
        "https://towardsdatascience.com/movie-recommender-system-a5dbfdb2585d\n",
        "\n",
        "he_normal> It draws samples from a truncated normal distribution centered on 0 with stddev = sqrt(2 / fan_in) where fan_in is the number of input units in the weight tensor.\n",
        "\n",
        "EMBEDDING_SIZE>  Embedding is the concept of mapping from discrete objects such as words to vectors and real numbers. \n",
        "Keras offers an Embedding layer that can be used for neural networks on text data. It requires that the input data be integer encoded, so that each word is represented by a unique integer. This data preparation step can be performed using the Tokenizer API also provided with Keras.\n",
        "There are a few different embedding vector sizes, including 50, 100, 200 and 300 dimensions. You can download this collection of embeddings and we can seed the Keras Embedding layer with weights from the pre-trained embedding for the words in your training dataset."
      ]
    },
    {
      "cell_type": "markdown",
      "metadata": {
        "id": "PIdIMVd_4FHP"
      },
      "source": [
        ""
      ]
    },
    {
      "cell_type": "code",
      "metadata": {
        "id": "eLlzh_M3pHuM"
      },
      "source": [
        "EMBEDDING_SIZE = 50\n",
        "\n",
        "\n",
        "class RecommenderNet(keras.Model):\n",
        "    def __init__(self, num_users, num_items, embedding_size, **kwargs):\n",
        "        super(RecommenderNet, self).__init__(**kwargs)\n",
        "        \n",
        "        self.num_users = num_users\n",
        "        self.num_items = num_items\n",
        "        self.embedding_size = embedding_size\n",
        "        self.user_embedding = layers.Embedding(\n",
        "            num_users,\n",
        "            embedding_size,\n",
        "            embeddings_initializer=\"he_normal\",\n",
        "            embeddings_regularizer=keras.regularizers.l2(1e-6),\n",
        "        )\n",
        "        self.user_bias = layers.Embedding(num_users, 1)\n",
        "        \n",
        "        \n",
        "        \n",
        "        self.items_embedding = layers.Embedding(\n",
        "            num_items,\n",
        "            embedding_size,\n",
        "            embeddings_initializer=\"he_normal\",\n",
        "            embeddings_regularizer=keras.regularizers.l2(1e-6),\n",
        "        )\n",
        "        self.items_bias = layers.Embedding(num_items, 1)\n",
        "\n",
        "        \n",
        "    def call(self, inputs):\n",
        "        user_vector = self.user_embedding(inputs[:, 0]) #all rows of column 0\n",
        "        user_bias = self.user_bias(inputs[:, 0])  #all rows of column 0\n",
        "        items_vector = self.items_embedding(inputs[:, 1]) #all rows of column 1\n",
        "        items_bias = self.items_bias(inputs[:, 1])  #all rows of column 1\n",
        "        \n",
        "        dot_user_items = tf.tensordot(user_vector, items_vector, 2)\n",
        "        # Add all the components (including bias)\n",
        "        x = dot_user_items + user_bias + items_bias\n",
        "        # The sigmoid activation forces the rating to between 0 and 1\n",
        "        return tf.nn.sigmoid(x)\n",
        "\n",
        "model = RecommenderNet(num_users, num_items, EMBEDDING_SIZE)\n",
        "model.compile(\n",
        "    loss=tf.keras.losses.BinaryCrossentropy(), optimizer=keras.optimizers.Adam(lr=0.001)\n",
        ")"
      ],
      "execution_count": 19,
      "outputs": []
    },
    {
      "cell_type": "code",
      "metadata": {
        "colab": {
          "base_uri": "https://localhost:8080/"
        },
        "id": "UUzrDwRh2EE4",
        "outputId": "4808c1e2-0b2f-4b51-e99a-84e9a729fa3d"
      },
      "source": [
        "history = model.fit(\n",
        "    x=x_train,\n",
        "    y=y_train,\n",
        "    batch_size=500,\n",
        "    epochs=10,\n",
        "    verbose=1,\n",
        "    validation_data=(x_val, y_val),\n",
        ")\n"
      ],
      "execution_count": 21,
      "outputs": [
        {
          "output_type": "stream",
          "text": [
            "Epoch 1/10\n",
            "309/309 [==============================] - 14s 46ms/step - loss: 0.3507 - val_loss: 0.5797\n",
            "Epoch 2/10\n",
            "309/309 [==============================] - 14s 46ms/step - loss: 0.3482 - val_loss: 0.5817\n",
            "Epoch 3/10\n",
            "309/309 [==============================] - 14s 46ms/step - loss: 0.3457 - val_loss: 0.5852\n",
            "Epoch 4/10\n",
            "309/309 [==============================] - 14s 46ms/step - loss: 0.3436 - val_loss: 0.5892\n",
            "Epoch 5/10\n",
            "309/309 [==============================] - 14s 46ms/step - loss: 0.3412 - val_loss: 0.5897\n",
            "Epoch 6/10\n",
            "309/309 [==============================] - 14s 45ms/step - loss: 0.3396 - val_loss: 0.5911\n",
            "Epoch 7/10\n",
            "309/309 [==============================] - 14s 46ms/step - loss: 0.3388 - val_loss: 0.5951\n",
            "Epoch 8/10\n",
            "309/309 [==============================] - 14s 45ms/step - loss: 0.3387 - val_loss: 0.5952\n",
            "Epoch 9/10\n",
            "309/309 [==============================] - 14s 45ms/step - loss: 0.3415 - val_loss: 0.6047\n",
            "Epoch 10/10\n",
            "309/309 [==============================] - 14s 46ms/step - loss: 0.3526 - val_loss: 0.6038\n"
          ],
          "name": "stdout"
        }
      ]
    },
    {
      "cell_type": "code",
      "metadata": {
        "colab": {
          "base_uri": "https://localhost:8080/",
          "height": 325
        },
        "id": "hkfDBDIp5WLm",
        "outputId": "36a3d089-a40e-4fe3-b68c-4390389d02f7"
      },
      "source": [
        "plt.plot(history.history[\"loss\"])\n",
        "plt.plot(history.history[\"val_loss\"])\n",
        "plt.title(\"model loss\")\n",
        "plt.ylabel(\"loss\")\n",
        "plt.xlabel(\"epoch\")\n",
        "plt.legend([\"train\", \"test\"], loc=\"upper left\")\n",
        "plt.show()\n"
      ],
      "execution_count": 22,
      "outputs": [
        {
          "output_type": "display_data",
          "data": {
            "image/png": "[encoded data removed]",
            "text/plain": [
              "<Figure size 432x288 with 1 Axes>"
            ]
          },
          "metadata": {
            "tags": []
          }
        }
      ]
    },
    {
      "cell_type": "markdown",
      "metadata": {
        "id": "zMpebqgA6e8r"
      },
      "source": [
        " Adam optimization is a stochastic gradient descent method that is based on adaptive estimation of first-order and second-order moments."
      ]
    },
    {
      "cell_type": "code",
      "metadata": {
        "id": "1Rr2T3EM5caV"
      },
      "source": [
        "model = RecommenderNet(num_users, num_items, EMBEDDING_SIZE)\n",
        "model.compile(\n",
        "    keras.optimizers.Adam(lr=0.001), loss=\"mean_squared_error\",\n",
        "    metrics=[\"mean_absolute_error\", \"mean_squared_error\"])"
      ],
      "execution_count": 23,
      "outputs": []
    },
    {
      "cell_type": "code",
      "metadata": {
        "colab": {
          "base_uri": "https://localhost:8080/"
        },
        "id": "5Wqxv1Ov63VK",
        "outputId": "0c47f402-5e21-4439-ede6-fc51e54628da"
      },
      "source": [
        "history = model.fit(\n",
        "    x=x_train,\n",
        "    y=y_train,\n",
        "    batch_size=100,\n",
        "    epochs=10,\n",
        "    verbose=1,\n",
        "    validation_data=(x_val, y_val),\n",
        ")\n"
      ],
      "execution_count": 25,
      "outputs": [
        {
          "output_type": "stream",
          "text": [
            "Epoch 1/10\n",
            "1541/1541 [==============================] - 68s 44ms/step - loss: 0.0561 - mean_absolute_error: 0.1634 - mean_squared_error: 0.0472 - val_loss: 0.0495 - val_mean_absolute_error: 0.1639 - val_mean_squared_error: 0.0399\n",
            "Epoch 2/10\n",
            "1541/1541 [==============================] - 68s 44ms/step - loss: 0.0459 - mean_absolute_error: 0.1163 - mean_squared_error: 0.0367 - val_loss: 0.0700 - val_mean_absolute_error: 0.2106 - val_mean_squared_error: 0.0612\n",
            "Epoch 3/10\n",
            "1541/1541 [==============================] - 70s 45ms/step - loss: 0.0566 - mean_absolute_error: 0.1602 - mean_squared_error: 0.0472 - val_loss: 0.0487 - val_mean_absolute_error: 0.1595 - val_mean_squared_error: 0.0389\n",
            "Epoch 4/10\n",
            "1541/1541 [==============================] - 70s 46ms/step - loss: 0.0446 - mean_absolute_error: 0.1161 - mean_squared_error: 0.0351 - val_loss: 0.0637 - val_mean_absolute_error: 0.1962 - val_mean_squared_error: 0.0546\n",
            "Epoch 5/10\n",
            "1541/1541 [==============================] - 70s 45ms/step - loss: 0.0586 - mean_absolute_error: 0.1625 - mean_squared_error: 0.0490 - val_loss: 0.0471 - val_mean_absolute_error: 0.1526 - val_mean_squared_error: 0.0371\n",
            "Epoch 6/10\n",
            "1541/1541 [==============================] - 70s 45ms/step - loss: 0.0452 - mean_absolute_error: 0.1145 - mean_squared_error: 0.0356 - val_loss: 0.0580 - val_mean_absolute_error: 0.1831 - val_mean_squared_error: 0.0488\n",
            "Epoch 7/10\n",
            "1541/1541 [==============================] - 70s 45ms/step - loss: 0.0561 - mean_absolute_error: 0.1564 - mean_squared_error: 0.0466 - val_loss: 0.0465 - val_mean_absolute_error: 0.1509 - val_mean_squared_error: 0.0366\n",
            "Epoch 8/10\n",
            "1541/1541 [==============================] - 70s 45ms/step - loss: 0.0437 - mean_absolute_error: 0.1146 - mean_squared_error: 0.0342 - val_loss: 0.0548 - val_mean_absolute_error: 0.1759 - val_mean_squared_error: 0.0457\n",
            "Epoch 9/10\n",
            "1541/1541 [==============================] - 70s 45ms/step - loss: 0.0548 - mean_absolute_error: 0.1556 - mean_squared_error: 0.0452 - val_loss: 0.0455 - val_mean_absolute_error: 0.1469 - val_mean_squared_error: 0.0357\n",
            "Epoch 10/10\n",
            "1541/1541 [==============================] - 69s 45ms/step - loss: 0.0440 - mean_absolute_error: 0.1134 - mean_squared_error: 0.0344 - val_loss: 0.0525 - val_mean_absolute_error: 0.1700 - val_mean_squared_error: 0.0433\n"
          ],
          "name": "stdout"
        }
      ]
    },
    {
      "cell_type": "code",
      "metadata": {
        "colab": {
          "base_uri": "https://localhost:8080/",
          "height": 325
        },
        "id": "JCm0LjjbDRT7",
        "outputId": "900a9233-05c8-43a4-bbba-cbca9a4712f3"
      },
      "source": [
        "plt.plot(history.history[\"loss\"])\n",
        "plt.plot(history.history[\"val_loss\"])\n",
        "plt.title(\"model loss\")\n",
        "plt.ylabel(\"loss\")\n",
        "plt.xlabel(\"epoch\")\n",
        "plt.legend([\"train\", \"test\"], loc=\"upper left\")\n",
        "plt.show()"
      ],
      "execution_count": 26,
      "outputs": [
        {
          "output_type": "display_data",
          "data": {
            "image/png": "[encoded data removed]",
            "text/plain": [
              "<Figure size 432x288 with 1 Axes>"
            ]
          },
          "metadata": {
            "tags": []
          }
        }
      ]
    },
    {
      "cell_type": "code",
      "metadata": {
        "colab": {
          "base_uri": "https://localhost:8080/"
        },
        "id": "kXt9ANxKDexx",
        "outputId": "0fe53a8a-5933-4a0f-e7d1-baa59223f3d6"
      },
      "source": [
        "#the top recommendations.\n",
        "user_selected = clothing_data_processed_new.user_id.sample().iloc[0]  #the first row.\n",
        "\n",
        "recommended_items = clothing_data_processed_new[clothing_data_processed_new.user_id == user_selected]\n",
        "print(recommended_items)"
      ],
      "execution_count": 28,
      "outputs": [
        {
          "output_type": "stream",
          "text": [
            "          fit  user_id  item_id  ...  bust_type  userfind itemfind\n",
            "164811  large   566309   130259  ...          c       376        7\n",
            "106134  large   566309  2195049  ...          c       376     1714\n",
            "28619   large   566309  2926339  ...          c       376     3798\n",
            "159468    fit   566309   667268  ...          c       376     3762\n",
            "20352     fit   566309   374312  ...          c       376      131\n",
            "37924   small   566309  2776206  ...          c       376     2011\n",
            "180300    fit   566309  1991314  ...          c       376      774\n",
            "136880    fit   566309  1875650  ...          c       376      299\n",
            "87013   small   566309   765009  ...          c       376     3304\n",
            "178514    fit   566309  2769473  ...          c       376     1172\n",
            "63136     fit   566309  2120468  ...          c       376     3780\n",
            "119657    fit   566309  2783742  ...          c       376     1010\n",
            "80103   large   566309  2426137  ...          c       376      963\n",
            "169298    fit   566309   158028  ...          c       376      433\n",
            "376       fit   566309  2366148  ...          c       376      319\n",
            "\n",
            "[15 rows x 17 columns]\n"
          ],
          "name": "stdout"
        }
      ]
    }
  ]
}