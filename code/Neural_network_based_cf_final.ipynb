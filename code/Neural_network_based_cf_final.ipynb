{
  "nbformat": 4,
  "nbformat_minor": 0,
  "metadata": {
    "colab": {
      "name": "Neural_network_based_cf_final.ipynb",
      "provenance": [],
      "collapsed_sections": []
    },
    "kernelspec": {
      "name": "python3",
      "display_name": "Python 3"
    },
    "language_info": {
      "name": "python"
    },
    "accelerator": "TPU"
  },
  "cells": [
    {
      "cell_type": "code",
      "metadata": {
        "id": "XFB7DQcLk4uA",
        "colab": {
          "base_uri": "https://localhost:8080/"
        },
        "outputId": "0ade0391-1339-4ddd-bc63-0f4733700650"
      },
      "source": [
        "pip install surprise"
      ],
      "execution_count": null,
      "outputs": [
        {
          "output_type": "stream",
          "text": [
            "Collecting surprise\n",
            "  Downloading https://files.pythonhosted.org/packages/61/de/e5cba8682201fcf9c3719a6fdda95693468ed061945493dea2dd37c5618b/surprise-0.1-py2.py3-none-any.whl\n",
            "Collecting scikit-surprise\n",
            "\u001b[?25l  Downloading https://files.pythonhosted.org/packages/97/37/5d334adaf5ddd65da99fc65f6507e0e4599d092ba048f4302fe8775619e8/scikit-surprise-1.1.1.tar.gz (11.8MB)\n",
            "\u001b[K     |████████████████████████████████| 11.8MB 288kB/s \n",
            "\u001b[?25hRequirement already satisfied: joblib>=0.11 in /usr/local/lib/python3.7/dist-packages (from scikit-surprise->surprise) (1.0.1)\n",
            "Requirement already satisfied: numpy>=1.11.2 in /usr/local/lib/python3.7/dist-packages (from scikit-surprise->surprise) (1.19.5)\n",
            "Requirement already satisfied: scipy>=1.0.0 in /usr/local/lib/python3.7/dist-packages (from scikit-surprise->surprise) (1.4.1)\n",
            "Requirement already satisfied: six>=1.10.0 in /usr/local/lib/python3.7/dist-packages (from scikit-surprise->surprise) (1.15.0)\n",
            "Building wheels for collected packages: scikit-surprise\n",
            "  Building wheel for scikit-surprise (setup.py) ... \u001b[?25l\u001b[?25hdone\n",
            "  Created wheel for scikit-surprise: filename=scikit_surprise-1.1.1-cp37-cp37m-linux_x86_64.whl size=1617551 sha256=552961e73cb4974ba6ee39279ef2b90a4a14234d5c2c103ef4c5c15f925332c6\n",
            "  Stored in directory: /root/.cache/pip/wheels/78/9c/3d/41b419c9d2aff5b6e2b4c0fc8d25c538202834058f9ed110d0\n",
            "Successfully built scikit-surprise\n",
            "Installing collected packages: scikit-surprise, surprise\n",
            "Successfully installed scikit-surprise-1.1.1 surprise-0.1\n"
          ],
          "name": "stdout"
        }
      ]
    },
    {
      "cell_type": "code",
      "metadata": {
        "id": "acaQURRCk9wT"
      },
      "source": [
        "import pickle\n",
        "import pandas as pd\n",
        "import numpy as np\n",
        "import matplotlib.pyplot as plt\n",
        "from matplotlib.pyplot import imshow\n",
        "from matplotlib.pyplot import figure\n",
        "from PIL import Image\n",
        "import requests\n",
        "from io import BytesIO\n",
        "import os\n",
        "from sklearn.preprocessing import Normalizer\n",
        "from sklearn.pipeline import make_pipeline\n",
        "from sklearn.preprocessing import StandardScaler\n",
        "from scipy import sparse\n",
        "import re\n",
        "\n",
        "import warnings\n",
        "warnings.simplefilter(\"ignore\")"
      ],
      "execution_count": null,
      "outputs": []
    },
    {
      "cell_type": "code",
      "metadata": {
        "colab": {
          "base_uri": "https://localhost:8080/",
          "height": 759
        },
        "id": "DTGXt-oefzLo",
        "outputId": "aa38bab1-2e17-4c62-c0d1-5d0e6acc7cef"
      },
      "source": [
        "#preprocessed training dataset\n",
        "url1 = \"../dataset/train.csv\"\n",
        "train_data = pd.read_csv(url1)\n",
        "train_data"
      ],
      "execution_count": null,
      "outputs": [
        {
          "output_type": "execute_result",
          "data": {
            "text/html": [
              "<div>\n",
              "<style scoped>\n",
              "    .dataframe tbody tr th:only-of-type {\n",
              "        vertical-align: middle;\n",
              "    }\n",
              "\n",
              "    .dataframe tbody tr th {\n",
              "        vertical-align: top;\n",
              "    }\n",
              "\n",
              "    .dataframe thead th {\n",
              "        text-align: right;\n",
              "    }\n",
              "</style>\n",
              "<table border=\"1\" class=\"dataframe\">\n",
              "  <thead>\n",
              "    <tr style=\"text-align: right;\">\n",
              "      <th></th>\n",
              "      <th>fit</th>\n",
              "      <th>user_id</th>\n",
              "      <th>item_id</th>\n",
              "      <th>weight</th>\n",
              "      <th>rating</th>\n",
              "      <th>rented for</th>\n",
              "      <th>review_text</th>\n",
              "      <th>body type</th>\n",
              "      <th>review_summary</th>\n",
              "      <th>category</th>\n",
              "      <th>height</th>\n",
              "      <th>size</th>\n",
              "      <th>age</th>\n",
              "      <th>bust_size</th>\n",
              "      <th>bust_type</th>\n",
              "    </tr>\n",
              "  </thead>\n",
              "  <tbody>\n",
              "    <tr>\n",
              "      <th>0</th>\n",
              "      <td>small</td>\n",
              "      <td>379417</td>\n",
              "      <td>658706</td>\n",
              "      <td>120.000000</td>\n",
              "      <td>10.0</td>\n",
              "      <td>party</td>\n",
              "      <td>It ran a little small, in my opinion, but the ...</td>\n",
              "      <td>straight &amp; narrow</td>\n",
              "      <td>Perfect, Unique Dress!</td>\n",
              "      <td>dress</td>\n",
              "      <td>65.0</td>\n",
              "      <td>M</td>\n",
              "      <td>34.0</td>\n",
              "      <td>34.0</td>\n",
              "      <td>b</td>\n",
              "    </tr>\n",
              "    <tr>\n",
              "      <th>1</th>\n",
              "      <td>fit</td>\n",
              "      <td>904971</td>\n",
              "      <td>182915</td>\n",
              "      <td>120.000000</td>\n",
              "      <td>10.0</td>\n",
              "      <td>party</td>\n",
              "      <td>Wore this to a Christmas party - so comfortabl...</td>\n",
              "      <td>straight &amp; narrow</td>\n",
              "      <td>Great fit and material!</td>\n",
              "      <td>dress</td>\n",
              "      <td>64.0</td>\n",
              "      <td>S</td>\n",
              "      <td>52.0</td>\n",
              "      <td>34.0</td>\n",
              "      <td>b</td>\n",
              "    </tr>\n",
              "    <tr>\n",
              "      <th>2</th>\n",
              "      <td>small</td>\n",
              "      <td>163215</td>\n",
              "      <td>1979533</td>\n",
              "      <td>150.000000</td>\n",
              "      <td>10.0</td>\n",
              "      <td>other</td>\n",
              "      <td>As the temperatures climbed into the 90s yeste...</td>\n",
              "      <td>hourglass</td>\n",
              "      <td>Bright and fun for engagement pics!</td>\n",
              "      <td>dress</td>\n",
              "      <td>69.0</td>\n",
              "      <td>S</td>\n",
              "      <td>28.0</td>\n",
              "      <td>34.0</td>\n",
              "      <td>d</td>\n",
              "    </tr>\n",
              "    <tr>\n",
              "      <th>3</th>\n",
              "      <td>small</td>\n",
              "      <td>232640</td>\n",
              "      <td>880935</td>\n",
              "      <td>140.000000</td>\n",
              "      <td>8.0</td>\n",
              "      <td>wedding</td>\n",
              "      <td>The dress color was a wow!  I found the dress ...</td>\n",
              "      <td>hourglass</td>\n",
              "      <td>This dress is a standout!</td>\n",
              "      <td>dress</td>\n",
              "      <td>68.0</td>\n",
              "      <td>M</td>\n",
              "      <td>38.0</td>\n",
              "      <td>34.0</td>\n",
              "      <td>c</td>\n",
              "    </tr>\n",
              "    <tr>\n",
              "      <th>4</th>\n",
              "      <td>fit</td>\n",
              "      <td>691117</td>\n",
              "      <td>180014</td>\n",
              "      <td>137.391709</td>\n",
              "      <td>10.0</td>\n",
              "      <td>party</td>\n",
              "      <td>This dress is very flattering, and the cutouts...</td>\n",
              "      <td>athletic</td>\n",
              "      <td>So easy to wear and comfy! Paired with red acc...</td>\n",
              "      <td>dress</td>\n",
              "      <td>69.0</td>\n",
              "      <td>L</td>\n",
              "      <td>33.0</td>\n",
              "      <td>34.0</td>\n",
              "      <td>b</td>\n",
              "    </tr>\n",
              "    <tr>\n",
              "      <th>...</th>\n",
              "      <td>...</td>\n",
              "      <td>...</td>\n",
              "      <td>...</td>\n",
              "      <td>...</td>\n",
              "      <td>...</td>\n",
              "      <td>...</td>\n",
              "      <td>...</td>\n",
              "      <td>...</td>\n",
              "      <td>...</td>\n",
              "      <td>...</td>\n",
              "      <td>...</td>\n",
              "      <td>...</td>\n",
              "      <td>...</td>\n",
              "      <td>...</td>\n",
              "      <td>...</td>\n",
              "    </tr>\n",
              "    <tr>\n",
              "      <th>154030</th>\n",
              "      <td>small</td>\n",
              "      <td>733207</td>\n",
              "      <td>2358935</td>\n",
              "      <td>128.000000</td>\n",
              "      <td>8.0</td>\n",
              "      <td>work</td>\n",
              "      <td>This was a cute top. I really liked the lace a...</td>\n",
              "      <td>athletic</td>\n",
              "      <td>Fun Top.</td>\n",
              "      <td>top</td>\n",
              "      <td>66.0</td>\n",
              "      <td>S</td>\n",
              "      <td>38.0</td>\n",
              "      <td>32.0</td>\n",
              "      <td>dd</td>\n",
              "    </tr>\n",
              "    <tr>\n",
              "      <th>154031</th>\n",
              "      <td>fit</td>\n",
              "      <td>873762</td>\n",
              "      <td>625911</td>\n",
              "      <td>160.000000</td>\n",
              "      <td>10.0</td>\n",
              "      <td>wedding</td>\n",
              "      <td>This dress was great! The style of the dress i...</td>\n",
              "      <td>athletic</td>\n",
              "      <td>Classic design, with an edge.</td>\n",
              "      <td>dress</td>\n",
              "      <td>68.0</td>\n",
              "      <td>XL</td>\n",
              "      <td>27.0</td>\n",
              "      <td>36.0</td>\n",
              "      <td>b</td>\n",
              "    </tr>\n",
              "    <tr>\n",
              "      <th>154032</th>\n",
              "      <td>fit</td>\n",
              "      <td>14227</td>\n",
              "      <td>1515649</td>\n",
              "      <td>145.000000</td>\n",
              "      <td>8.0</td>\n",
              "      <td>party</td>\n",
              "      <td>no complaints</td>\n",
              "      <td>pear</td>\n",
              "      <td>fit like a glove</td>\n",
              "      <td>dress</td>\n",
              "      <td>65.0</td>\n",
              "      <td>M</td>\n",
              "      <td>37.0</td>\n",
              "      <td>32.0</td>\n",
              "      <td>d</td>\n",
              "    </tr>\n",
              "    <tr>\n",
              "      <th>154033</th>\n",
              "      <td>fit</td>\n",
              "      <td>421813</td>\n",
              "      <td>127081</td>\n",
              "      <td>170.000000</td>\n",
              "      <td>8.0</td>\n",
              "      <td>wedding</td>\n",
              "      <td>The fit of the dress is pretty true to size. I...</td>\n",
              "      <td>hourglass</td>\n",
              "      <td>Cancelled wedding. but gorgeous dress</td>\n",
              "      <td>gown</td>\n",
              "      <td>66.0</td>\n",
              "      <td>XL</td>\n",
              "      <td>34.0</td>\n",
              "      <td>36.0</td>\n",
              "      <td>d</td>\n",
              "    </tr>\n",
              "    <tr>\n",
              "      <th>154034</th>\n",
              "      <td>fit</td>\n",
              "      <td>902767</td>\n",
              "      <td>126335</td>\n",
              "      <td>155.000000</td>\n",
              "      <td>8.0</td>\n",
              "      <td>party</td>\n",
              "      <td>I wore this to my office holiday party and eve...</td>\n",
              "      <td>pear</td>\n",
              "      <td>So sparkly!  Perfect for a holiday or NYE party.</td>\n",
              "      <td>dress</td>\n",
              "      <td>61.0</td>\n",
              "      <td>M</td>\n",
              "      <td>33.0</td>\n",
              "      <td>34.0</td>\n",
              "      <td>b</td>\n",
              "    </tr>\n",
              "  </tbody>\n",
              "</table>\n",
              "<p>154035 rows × 15 columns</p>\n",
              "</div>"
            ],
            "text/plain": [
              "          fit  user_id  item_id      weight  ...  size   age bust_size bust_type\n",
              "0       small   379417   658706  120.000000  ...     M  34.0      34.0         b\n",
              "1         fit   904971   182915  120.000000  ...     S  52.0      34.0         b\n",
              "2       small   163215  1979533  150.000000  ...     S  28.0      34.0         d\n",
              "3       small   232640   880935  140.000000  ...     M  38.0      34.0         c\n",
              "4         fit   691117   180014  137.391709  ...     L  33.0      34.0         b\n",
              "...       ...      ...      ...         ...  ...   ...   ...       ...       ...\n",
              "154030  small   733207  2358935  128.000000  ...     S  38.0      32.0        dd\n",
              "154031    fit   873762   625911  160.000000  ...    XL  27.0      36.0         b\n",
              "154032    fit    14227  1515649  145.000000  ...     M  37.0      32.0         d\n",
              "154033    fit   421813   127081  170.000000  ...    XL  34.0      36.0         d\n",
              "154034    fit   902767   126335  155.000000  ...     M  33.0      34.0         b\n",
              "\n",
              "[154035 rows x 15 columns]"
            ]
          },
          "metadata": {
            "tags": []
          },
          "execution_count": 3
        }
      ]
    },
    {
      "cell_type": "code",
      "metadata": {
        "colab": {
          "base_uri": "https://localhost:8080/",
          "height": 742
        },
        "id": "ilOKJZD2gmC6",
        "outputId": "9725bc1e-1db6-4d65-f923-73f1d6667043"
      },
      "source": [
        "#preprocessed test dataset\n",
        "url2 = \"../dataset/test.csv\"\n",
        "test_data = pd.read_csv(url2)\n",
        "test_data"
      ],
      "execution_count": null,
      "outputs": [
        {
          "output_type": "execute_result",
          "data": {
            "text/html": [
              "<div>\n",
              "<style scoped>\n",
              "    .dataframe tbody tr th:only-of-type {\n",
              "        vertical-align: middle;\n",
              "    }\n",
              "\n",
              "    .dataframe tbody tr th {\n",
              "        vertical-align: top;\n",
              "    }\n",
              "\n",
              "    .dataframe thead th {\n",
              "        text-align: right;\n",
              "    }\n",
              "</style>\n",
              "<table border=\"1\" class=\"dataframe\">\n",
              "  <thead>\n",
              "    <tr style=\"text-align: right;\">\n",
              "      <th></th>\n",
              "      <th>fit</th>\n",
              "      <th>user_id</th>\n",
              "      <th>item_id</th>\n",
              "      <th>weight</th>\n",
              "      <th>rating</th>\n",
              "      <th>rented for</th>\n",
              "      <th>review_text</th>\n",
              "      <th>body type</th>\n",
              "      <th>review_summary</th>\n",
              "      <th>category</th>\n",
              "      <th>height</th>\n",
              "      <th>size</th>\n",
              "      <th>age</th>\n",
              "      <th>bust_size</th>\n",
              "      <th>bust_type</th>\n",
              "    </tr>\n",
              "  </thead>\n",
              "  <tbody>\n",
              "    <tr>\n",
              "      <th>0</th>\n",
              "      <td>fit</td>\n",
              "      <td>492205</td>\n",
              "      <td>208647</td>\n",
              "      <td>115.000000</td>\n",
              "      <td>8.0</td>\n",
              "      <td>wedding</td>\n",
              "      <td>I rented this dress for my mom, she loved it! ...</td>\n",
              "      <td>straight &amp; narrow</td>\n",
              "      <td>Great Dress for a wedding!</td>\n",
              "      <td>dress</td>\n",
              "      <td>66.0</td>\n",
              "      <td>XL</td>\n",
              "      <td>25.0</td>\n",
              "      <td>32.0</td>\n",
              "      <td>d</td>\n",
              "    </tr>\n",
              "    <tr>\n",
              "      <th>1</th>\n",
              "      <td>fit</td>\n",
              "      <td>596658</td>\n",
              "      <td>145906</td>\n",
              "      <td>135.000000</td>\n",
              "      <td>8.0</td>\n",
              "      <td>wedding</td>\n",
              "      <td>I was at a winter, black tie wedding, a lot of...</td>\n",
              "      <td>athletic</td>\n",
              "      <td>Received a lot of compliments</td>\n",
              "      <td>gown</td>\n",
              "      <td>65.0</td>\n",
              "      <td>S</td>\n",
              "      <td>31.0</td>\n",
              "      <td>36.0</td>\n",
              "      <td>c</td>\n",
              "    </tr>\n",
              "    <tr>\n",
              "      <th>2</th>\n",
              "      <td>fit</td>\n",
              "      <td>88342</td>\n",
              "      <td>1740815</td>\n",
              "      <td>135.000000</td>\n",
              "      <td>10.0</td>\n",
              "      <td>work</td>\n",
              "      <td>Fabulous black &amp; white dress by Carven! We lov...</td>\n",
              "      <td>hourglass</td>\n",
              "      <td>Stylist Review!</td>\n",
              "      <td>dress</td>\n",
              "      <td>65.0</td>\n",
              "      <td>XL</td>\n",
              "      <td>29.0</td>\n",
              "      <td>34.0</td>\n",
              "      <td>c</td>\n",
              "    </tr>\n",
              "    <tr>\n",
              "      <th>3</th>\n",
              "      <td>fit</td>\n",
              "      <td>501057</td>\n",
              "      <td>2803807</td>\n",
              "      <td>110.000000</td>\n",
              "      <td>10.0</td>\n",
              "      <td>everyday</td>\n",
              "      <td>good fit</td>\n",
              "      <td>petite</td>\n",
              "      <td>looks great</td>\n",
              "      <td>jacket</td>\n",
              "      <td>63.0</td>\n",
              "      <td>XS</td>\n",
              "      <td>34.0</td>\n",
              "      <td>30.0</td>\n",
              "      <td>b</td>\n",
              "    </tr>\n",
              "    <tr>\n",
              "      <th>4</th>\n",
              "      <td>fit</td>\n",
              "      <td>662466</td>\n",
              "      <td>2521411</td>\n",
              "      <td>137.391709</td>\n",
              "      <td>8.0</td>\n",
              "      <td>party</td>\n",
              "      <td>It's a cute jacket that I wore a few times - b...</td>\n",
              "      <td>straight &amp; narrow</td>\n",
              "      <td>Cute but not amazing</td>\n",
              "      <td>jacket</td>\n",
              "      <td>68.0</td>\n",
              "      <td>S</td>\n",
              "      <td>27.0</td>\n",
              "      <td>34.0</td>\n",
              "      <td>c</td>\n",
              "    </tr>\n",
              "    <tr>\n",
              "      <th>...</th>\n",
              "      <td>...</td>\n",
              "      <td>...</td>\n",
              "      <td>...</td>\n",
              "      <td>...</td>\n",
              "      <td>...</td>\n",
              "      <td>...</td>\n",
              "      <td>...</td>\n",
              "      <td>...</td>\n",
              "      <td>...</td>\n",
              "      <td>...</td>\n",
              "      <td>...</td>\n",
              "      <td>...</td>\n",
              "      <td>...</td>\n",
              "      <td>...</td>\n",
              "      <td>...</td>\n",
              "    </tr>\n",
              "    <tr>\n",
              "      <th>38504</th>\n",
              "      <td>fit</td>\n",
              "      <td>884008</td>\n",
              "      <td>172027</td>\n",
              "      <td>105.000000</td>\n",
              "      <td>10.0</td>\n",
              "      <td>date</td>\n",
              "      <td>Slightly loose in the top but was absolutely f...</td>\n",
              "      <td>petite</td>\n",
              "      <td>Amazing outfit to go see Hamilton!</td>\n",
              "      <td>dress</td>\n",
              "      <td>64.0</td>\n",
              "      <td>XS</td>\n",
              "      <td>31.0</td>\n",
              "      <td>34.0</td>\n",
              "      <td>a</td>\n",
              "    </tr>\n",
              "    <tr>\n",
              "      <th>38505</th>\n",
              "      <td>large</td>\n",
              "      <td>437160</td>\n",
              "      <td>130259</td>\n",
              "      <td>137.391709</td>\n",
              "      <td>8.0</td>\n",
              "      <td>wedding</td>\n",
              "      <td>Dress was a beautiful color but it just didn't...</td>\n",
              "      <td>full bust</td>\n",
              "      <td>Didn't work out:(</td>\n",
              "      <td>dress</td>\n",
              "      <td>62.0</td>\n",
              "      <td>L</td>\n",
              "      <td>50.0</td>\n",
              "      <td>34.0</td>\n",
              "      <td>c</td>\n",
              "    </tr>\n",
              "    <tr>\n",
              "      <th>38506</th>\n",
              "      <td>fit</td>\n",
              "      <td>425211</td>\n",
              "      <td>416213</td>\n",
              "      <td>137.391709</td>\n",
              "      <td>8.0</td>\n",
              "      <td>wedding</td>\n",
              "      <td>Open back means no bra (which I usually never ...</td>\n",
              "      <td>full bust</td>\n",
              "      <td>Perfect for a fall wedding!</td>\n",
              "      <td>gown</td>\n",
              "      <td>62.0</td>\n",
              "      <td>XL</td>\n",
              "      <td>30.0</td>\n",
              "      <td>38.0</td>\n",
              "      <td>d</td>\n",
              "    </tr>\n",
              "    <tr>\n",
              "      <th>38507</th>\n",
              "      <td>large</td>\n",
              "      <td>970560</td>\n",
              "      <td>1146825</td>\n",
              "      <td>123.000000</td>\n",
              "      <td>10.0</td>\n",
              "      <td>everyday</td>\n",
              "      <td>Lose fit, Very comfortable,  Wear any color sh...</td>\n",
              "      <td>petite</td>\n",
              "      <td>Overall the dress, although a little lose fitt...</td>\n",
              "      <td>dress</td>\n",
              "      <td>64.0</td>\n",
              "      <td>XS</td>\n",
              "      <td>36.0</td>\n",
              "      <td>32.0</td>\n",
              "      <td>a</td>\n",
              "    </tr>\n",
              "    <tr>\n",
              "      <th>38508</th>\n",
              "      <td>small</td>\n",
              "      <td>30013</td>\n",
              "      <td>132738</td>\n",
              "      <td>142.000000</td>\n",
              "      <td>10.0</td>\n",
              "      <td>formal affair</td>\n",
              "      <td>I didn't wear this dress as it was my backup. ...</td>\n",
              "      <td>hourglass</td>\n",
              "      <td>Lovely dress....low neckline</td>\n",
              "      <td>gown</td>\n",
              "      <td>67.0</td>\n",
              "      <td>M</td>\n",
              "      <td>49.0</td>\n",
              "      <td>34.0</td>\n",
              "      <td>c</td>\n",
              "    </tr>\n",
              "  </tbody>\n",
              "</table>\n",
              "<p>38509 rows × 15 columns</p>\n",
              "</div>"
            ],
            "text/plain": [
              "         fit  user_id  item_id      weight  ...  size   age bust_size bust_type\n",
              "0        fit   492205   208647  115.000000  ...    XL  25.0      32.0         d\n",
              "1        fit   596658   145906  135.000000  ...     S  31.0      36.0         c\n",
              "2        fit    88342  1740815  135.000000  ...    XL  29.0      34.0         c\n",
              "3        fit   501057  2803807  110.000000  ...    XS  34.0      30.0         b\n",
              "4        fit   662466  2521411  137.391709  ...     S  27.0      34.0         c\n",
              "...      ...      ...      ...         ...  ...   ...   ...       ...       ...\n",
              "38504    fit   884008   172027  105.000000  ...    XS  31.0      34.0         a\n",
              "38505  large   437160   130259  137.391709  ...     L  50.0      34.0         c\n",
              "38506    fit   425211   416213  137.391709  ...    XL  30.0      38.0         d\n",
              "38507  large   970560  1146825  123.000000  ...    XS  36.0      32.0         a\n",
              "38508  small    30013   132738  142.000000  ...     M  49.0      34.0         c\n",
              "\n",
              "[38509 rows x 15 columns]"
            ]
          },
          "metadata": {
            "tags": []
          },
          "execution_count": 4
        }
      ]
    },
    {
      "cell_type": "code",
      "metadata": {
        "id": "G1_un9wEXlEr"
      },
      "source": [
        "#for the train data - list out all users to avoid duplicate users and place an index to each user.\n",
        "user_ids_train = train_data[\"user_id\"].unique().tolist()\n",
        "\n",
        "#index all the unique users\n",
        "user2user_encoded_train = {x: i for i, x in enumerate(user_ids_train)}\n",
        "#print(user2user_encoded_train)\n",
        "\n",
        "userencoded2user_train = {i: x for i, x in enumerate(user_ids_train)}\n",
        "#print(userencoded2user_train)"
      ],
      "execution_count": null,
      "outputs": []
    },
    {
      "cell_type": "code",
      "metadata": {
        "id": "SGyOwEIfxXN9"
      },
      "source": [
        "#for the test data - list out all users to avoid duplicate users and place an index to each user.\n",
        "user_ids_test = test_data[\"user_id\"].unique().tolist()\n",
        "\n",
        "#index all the unique users\n",
        "user2user_encoded_test = {x: i for i, x in enumerate(user_ids_test)}\n",
        "#print(user2user_encoded_test)\n",
        "\n",
        "userencoded2user_test = {i: x for i, x in enumerate(user_ids_test)}\n",
        "#print(userencoded2user_test)"
      ],
      "execution_count": null,
      "outputs": []
    },
    {
      "cell_type": "code",
      "metadata": {
        "id": "-uc0vdfOXzb0"
      },
      "source": [
        "#for the train data - list out all items, to avoid duplicate items and place an index to each items.\n",
        "item_ids_train = train_data[\"item_id\"].unique().tolist()\n",
        "\n",
        "item2item_encoded_train = {x: i for i, x in enumerate(item_ids_train)}\n",
        "#print(item2item_encoded_train)\n",
        "\n",
        "itemencoded2item_train = {i: x for i, x in enumerate(item_ids_train)}\n",
        "#print(itemencoded2item_train)"
      ],
      "execution_count": null,
      "outputs": []
    },
    {
      "cell_type": "code",
      "metadata": {
        "id": "Hx6YV4Y_yuTi"
      },
      "source": [
        "#for the test data - list out all items, to avoid duplicate items and place an index to each items.\n",
        "item_ids_test = test_data[\"item_id\"].unique().tolist()\n",
        "\n",
        "item2item_encoded_test = {x: i for i, x in enumerate(item_ids_test)}\n",
        "#print(item2item_encoded_test)\n",
        "\n",
        "itemencoded2item_test= {i: x for i, x in enumerate(item_ids_test)}\n",
        "#print(itemencoded2item_test)"
      ],
      "execution_count": null,
      "outputs": []
    },
    {
      "cell_type": "code",
      "metadata": {
        "colab": {
          "base_uri": "https://localhost:8080/"
        },
        "id": "g3CpLqXg1PVI",
        "outputId": "571ce0f2-32df-46f2-d656-1549497b6b09"
      },
      "source": [
        "#mapping back to the train_data dataframe\n",
        "train_data[\"userfind\"] = train_data[\"user_id\"].map(user2user_encoded_train)\n",
        "train_data[\"itemfind\"] = train_data[\"item_id\"].map(item2item_encoded_train)\n",
        "print (train_data)"
      ],
      "execution_count": null,
      "outputs": [
        {
          "output_type": "stream",
          "text": [
            "          fit  user_id  item_id  ...  bust_type  userfind itemfind\n",
            "0       small   379417   658706  ...          b         0        0\n",
            "1         fit   904971   182915  ...          b         1        1\n",
            "2       small   163215  1979533  ...          d         2        2\n",
            "3       small   232640   880935  ...          c         3        3\n",
            "4         fit   691117   180014  ...          b         4        4\n",
            "...       ...      ...      ...  ...        ...       ...      ...\n",
            "154030  small   733207  2358935  ...         dd      3432       70\n",
            "154031    fit   873762   625911  ...          b     90410     4506\n",
            "154032    fit    14227  1515649  ...          d     71444      522\n",
            "154033    fit   421813   127081  ...          d     90411       56\n",
            "154034    fit   902767   126335  ...          b     90412      230\n",
            "\n",
            "[154035 rows x 17 columns]\n"
          ],
          "name": "stdout"
        }
      ]
    },
    {
      "cell_type": "code",
      "metadata": {
        "colab": {
          "base_uri": "https://localhost:8080/"
        },
        "id": "0QRrBOUU1nyy",
        "outputId": "c4c8f469-987b-4c8c-9b00-d1d76dc79660"
      },
      "source": [
        "#mapping back to the test_data dataframe\n",
        "test_data[\"userfind\"] = test_data[\"user_id\"].map(user2user_encoded_test)\n",
        "test_data[\"itemfind\"] = test_data[\"item_id\"].map(item2item_encoded_test)\n",
        "print (test_data)"
      ],
      "execution_count": null,
      "outputs": [
        {
          "output_type": "stream",
          "text": [
            "         fit  user_id  item_id  ...  bust_type  userfind itemfind\n",
            "0        fit   492205   208647  ...          d         0        0\n",
            "1        fit   596658   145906  ...          c         1        1\n",
            "2        fit    88342  1740815  ...          c         2        2\n",
            "3        fit   501057  2803807  ...          b         3        3\n",
            "4        fit   662466  2521411  ...          c         4        4\n",
            "...      ...      ...      ...  ...        ...       ...      ...\n",
            "38504    fit   884008   172027  ...          a     30580      346\n",
            "38505  large   437160   130259  ...          c     30581      123\n",
            "38506    fit   425211   416213  ...          d     13793      523\n",
            "38507  large   970560  1146825  ...          a     30582      406\n",
            "38508  small    30013   132738  ...          c      1476       45\n",
            "\n",
            "[38509 rows x 17 columns]\n"
          ],
          "name": "stdout"
        }
      ]
    },
    {
      "cell_type": "code",
      "metadata": {
        "colab": {
          "base_uri": "https://localhost:8080/"
        },
        "id": "ZTZy_Wot4QVO",
        "outputId": "30940e6b-a6fb-462f-e798-38f6426a4c1d"
      },
      "source": [
        "#preparing train set\n",
        "num_users_train = len(user2user_encoded_train)\n",
        "num_items_train = len(itemencoded2item_train)\n",
        "\n",
        "train_data[\"rating\"] = train_data[\"rating\"].values.astype(np.float32)\n",
        "\n",
        "# min and max ratings will be used to normalize the ratings later\n",
        "min_rating = min(train_data[\"rating\"])\n",
        "max_rating = max(train_data[\"rating\"])\n",
        "\n",
        "print(\n",
        "    \"Number of users in train data: {}, Number of items in train data: {}, Min rating: {}, Max rating: {}\".\n",
        "     format(num_users_train, num_items_train, min_rating, max_rating)\n",
        ")"
      ],
      "execution_count": null,
      "outputs": [
        {
          "output_type": "stream",
          "text": [
            "Number of users in train data: 90413, Number of items in train data: 5762, Min rating: 2.0, Max rating: 10.0\n"
          ],
          "name": "stdout"
        }
      ]
    },
    {
      "cell_type": "code",
      "metadata": {
        "id": "84DDtj_n4-Qu"
      },
      "source": [
        "#Prepare training and validation dataset\n",
        "\n",
        "x = train_data[[\"userfind\", \"itemfind\"]].values\n",
        "\n",
        "# Normalize the targets between 0 and 1. Makes it easy to train.\n",
        "y = train_data[\"rating\"].apply(lambda x: (x - min_rating) / (max_rating - min_rating)).values\n",
        "\n",
        "# Assuming training on 80% of the data and validating on 20%.\n",
        "train_indices = int(0.80 * train_data.shape[0])  #take 80% of the rows as training data\n",
        "\n",
        "x_train, x_val, y_train, y_val = (\n",
        "    x[:train_indices],\n",
        "    x[train_indices:],\n",
        "    y[:train_indices],\n",
        "    y[train_indices:],\n",
        ")"
      ],
      "execution_count": null,
      "outputs": []
    },
    {
      "cell_type": "markdown",
      "metadata": {
        "id": "8QoSMkIfmKyC"
      },
      "source": [
        "### Neural network based CF"
      ]
    },
    {
      "cell_type": "code",
      "metadata": {
        "id": "2VKq-l6GmNt2"
      },
      "source": [
        "from surprise import Dataset\n",
        "from surprise import Reader\n",
        "from surprise import BaselineOnly\n",
        "\n",
        "import random\n",
        "import tensorflow as tf\n",
        "from tensorflow import keras\n",
        "from tensorflow.keras import layers\n",
        "from pathlib import Path\n",
        "from surprise.model_selection import train_test_split\n",
        "from surprise.model_selection import GridSearchCV\n",
        "from surprise import accuracy"
      ],
      "execution_count": null,
      "outputs": []
    },
    {
      "cell_type": "markdown",
      "metadata": {
        "id": "SSSsEZ7Rmk-5"
      },
      "source": [
        "Reference: https://towardsdatascience.com/movie-recommender-system-a5dbfdb2585d\n",
        "\n",
        "he_normal> It draws samples from a truncated normal distribution centered on 0 with stddev = sqrt(2 / fan_in) where fan_in is the number of input units in the weight tensor.\n",
        "\n",
        "EMBEDDING_SIZE>  Embedding is the concept of mapping from discrete objects such as words to vectors and real numbers. \n",
        "Keras offers an Embedding layer that can be used for neural networks on text data. It requires that the input data be integer encoded, so that each word is represented by a unique integer. This data preparation step can be performed using the Tokenizer API also provided with Keras.\n",
        "There are a few different embedding vector sizes, including 50, 100, 200 and 300 dimensions. You can download this collection of embeddings and we can seed the Keras Embedding layer with weights from the pre-trained embedding for the words in your training dataset."
      ]
    },
    {
      "cell_type": "code",
      "metadata": {
        "id": "OqfQD0MNmmGq"
      },
      "source": [
        "#defined the embedding layer size\n",
        "EMBEDDING_SIZE = 100\n",
        "\n",
        "\n",
        "class RecommenderNet(keras.Model):\n",
        "    def __init__(self, num_users, num_items, embedding_size, **kwargs):\n",
        "        super(RecommenderNet, self).__init__(**kwargs)\n",
        "        \n",
        "        self.num_users = num_users\n",
        "        self.num_items = num_items\n",
        "        self.embedding_size = embedding_size\n",
        "        #doing embedding on user\n",
        "        self.user_embedding = layers.Embedding(\n",
        "            num_users,\n",
        "            embedding_size,\n",
        "            embeddings_initializer=\"he_normal\",\n",
        "            embeddings_regularizer=keras.regularizers.l2(1e-6),\n",
        "        )\n",
        "        self.user_bias = layers.Embedding(num_users, 1)\n",
        "        \n",
        "        \n",
        "        #doing embedding on item\n",
        "        self.items_embedding = layers.Embedding(\n",
        "            num_items,\n",
        "            embedding_size,\n",
        "            embeddings_initializer=\"he_normal\",\n",
        "            embeddings_regularizer=keras.regularizers.l2(1e-6),\n",
        "        )\n",
        "        self.items_bias = layers.Embedding(num_items, 1)\n",
        "\n",
        "        \n",
        "    def call(self, inputs):\n",
        "        #preparing user vectors and item vectors\n",
        "        user_vector = self.user_embedding(inputs[:, 0]) \n",
        "        user_bias = self.user_bias(inputs[:, 0])  \n",
        "        items_vector = self.items_embedding(inputs[:, 1])\n",
        "        items_bias = self.items_bias(inputs[:, 1])  \n",
        "        \n",
        "        #dot product of vectors\n",
        "        dot_user_items = tf.tensordot(user_vector, items_vector, 2)\n",
        "        \n",
        "        x = dot_user_items + user_bias + items_bias\n",
        "        # normalized rating\n",
        "        return tf.nn.sigmoid(x)\n",
        "\n",
        "model = RecommenderNet(num_users_train, num_items_train, EMBEDDING_SIZE)\n",
        "model.compile(\n",
        "    loss=tf.keras.losses.BinaryCrossentropy(), optimizer=keras.optimizers.Adam(lr=0.001)\n",
        ")"
      ],
      "execution_count": null,
      "outputs": []
    },
    {
      "cell_type": "code",
      "metadata": {
        "colab": {
          "base_uri": "https://localhost:8080/"
        },
        "id": "xs1L8JxvmqTF",
        "outputId": "f424c439-86b2-4ca3-f38e-cedb0dbda1dd"
      },
      "source": [
        "#calculating the loss\n",
        "history = model.fit(\n",
        "    x=x_train,\n",
        "    y=y_train,\n",
        "    batch_size=500,\n",
        "    epochs=10,\n",
        "    verbose=1,\n",
        "    validation_data=(x_val, y_val),\n",
        ")"
      ],
      "execution_count": null,
      "outputs": [
        {
          "output_type": "stream",
          "text": [
            "Epoch 1/10\n",
            "247/247 [==============================] - 23s 86ms/step - loss: 0.6796 - val_loss: 0.5835\n",
            "Epoch 2/10\n",
            "247/247 [==============================] - 21s 84ms/step - loss: 0.6457 - val_loss: 0.6192\n",
            "Epoch 3/10\n",
            "247/247 [==============================] - 21s 84ms/step - loss: 0.3662 - val_loss: 0.6171\n",
            "Epoch 4/10\n",
            "247/247 [==============================] - 21s 84ms/step - loss: 0.3537 - val_loss: 0.6212\n",
            "Epoch 5/10\n",
            "247/247 [==============================] - 21s 84ms/step - loss: 0.3536 - val_loss: 0.6234\n",
            "Epoch 6/10\n",
            "247/247 [==============================] - 21s 84ms/step - loss: 0.3507 - val_loss: 0.6247\n",
            "Epoch 7/10\n",
            "247/247 [==============================] - 21s 84ms/step - loss: 0.3516 - val_loss: 0.6283\n",
            "Epoch 8/10\n",
            "247/247 [==============================] - 21s 84ms/step - loss: 0.3541 - val_loss: 0.6322\n",
            "Epoch 9/10\n",
            "247/247 [==============================] - 21s 85ms/step - loss: 0.3627 - val_loss: 0.6303\n",
            "Epoch 10/10\n",
            "247/247 [==============================] - 21s 85ms/step - loss: 0.3984 - val_loss: 0.6436\n"
          ],
          "name": "stdout"
        }
      ]
    },
    {
      "cell_type": "code",
      "metadata": {
        "id": "ffJ7pE5YmuQv",
        "colab": {
          "base_uri": "https://localhost:8080/",
          "height": 295
        },
        "outputId": "b7cd3f4e-3b7d-4c10-933a-c06b77d085a0"
      },
      "source": [
        "plt.plot(history.history[\"loss\"])\n",
        "plt.plot(history.history[\"val_loss\"])\n",
        "plt.title(\"model loss\")\n",
        "plt.ylabel(\"loss\")\n",
        "plt.xlabel(\"epoch\")\n",
        "plt.legend([\"train\", \"test\"], loc=\"upper left\")\n",
        "plt.show()\n"
      ],
      "execution_count": null,
      "outputs": [
        {
          "output_type": "display_data",
          "data": {
            "image/png": "[encoded data removed]",
            "text/plain": [
              "<Figure size 432x288 with 1 Axes>"
            ]
          },
          "metadata": {
            "tags": [],
            "needs_background": "light"
          }
        }
      ]
    },
    {
      "cell_type": "code",
      "metadata": {
        "id": "QeRLnG2Vmwre"
      },
      "source": [
        "#evaluation by MSE, MAE\n",
        "model = RecommenderNet(num_users_train, num_items_train, EMBEDDING_SIZE)\n",
        "model.compile(\n",
        "    keras.optimizers.Adam(lr=0.001), loss=\"mean_squared_error\",\n",
        "    metrics=[\"mean_absolute_error\", \"mean_squared_error\"])"
      ],
      "execution_count": null,
      "outputs": []
    },
    {
      "cell_type": "code",
      "metadata": {
        "id": "Rfk3DSywm68x",
        "colab": {
          "base_uri": "https://localhost:8080/"
        },
        "outputId": "21aef1ab-b035-410d-b624-539b7974a30c"
      },
      "source": [
        "#calculating the errors\n",
        "history = model.fit(\n",
        "    x=x_train,\n",
        "    y=y_train,\n",
        "    batch_size=100,\n",
        "    epochs=5,\n",
        "    verbose=1,\n",
        "    validation_data=(x_val, y_val),\n",
        ")\n"
      ],
      "execution_count": null,
      "outputs": [
        {
          "output_type": "stream",
          "text": [
            "Epoch 1/5\n",
            "1233/1233 [==============================] - 104s 83ms/step - loss: 0.1660 - mean_absolute_error: 0.3795 - mean_squared_error: 0.1652 - val_loss: 0.0685 - val_mean_absolute_error: 0.2212 - val_mean_squared_error: 0.0640\n",
            "Epoch 2/5\n",
            "1233/1233 [==============================] - 103s 83ms/step - loss: 0.0488 - mean_absolute_error: 0.1144 - mean_squared_error: 0.0444 - val_loss: 0.0713 - val_mean_absolute_error: 0.2280 - val_mean_squared_error: 0.0672\n",
            "Epoch 3/5\n",
            "1233/1233 [==============================] - 103s 84ms/step - loss: 0.0481 - mean_absolute_error: 0.1151 - mean_squared_error: 0.0441 - val_loss: 0.0994 - val_mean_absolute_error: 0.2831 - val_mean_squared_error: 0.0960\n",
            "Epoch 4/5\n",
            "1233/1233 [==============================] - 103s 83ms/step - loss: 0.0355 - mean_absolute_error: 0.1434 - mean_squared_error: 0.0321 - val_loss: 0.1101 - val_mean_absolute_error: 0.3010 - val_mean_squared_error: 0.1067\n",
            "Epoch 5/5\n",
            "1233/1233 [==============================] - 102s 83ms/step - loss: 0.0347 - mean_absolute_error: 0.1423 - mean_squared_error: 0.0312 - val_loss: 0.1171 - val_mean_absolute_error: 0.3109 - val_mean_squared_error: 0.1134\n"
          ],
          "name": "stdout"
        }
      ]
    },
    {
      "cell_type": "code",
      "metadata": {
        "id": "Mow0hUoPm-q7",
        "colab": {
          "base_uri": "https://localhost:8080/",
          "height": 295
        },
        "outputId": "2a53c429-8a1f-4908-ba10-a60a23908e8e"
      },
      "source": [
        "plt.plot(history.history[\"loss\"])\n",
        "plt.plot(history.history[\"val_loss\"])\n",
        "plt.title(\"model loss\")\n",
        "plt.ylabel(\"loss\")\n",
        "plt.xlabel(\"epoch\")\n",
        "plt.legend([\"train\", \"test\"], loc=\"upper left\")\n",
        "plt.show()"
      ],
      "execution_count": null,
      "outputs": [
        {
          "output_type": "display_data",
          "data": {
            "image/png": "[encoded data removed]",
            "text/plain": [
              "<Figure size 432x288 with 1 Axes>"
            ]
          },
          "metadata": {
            "tags": [],
            "needs_background": "light"
          }
        }
      ]
    },
    {
      "cell_type": "markdown",
      "metadata": {
        "id": "-kjGwy058jwx"
      },
      "source": [
        " # Recommendation: Top 10 items"
      ]
    },
    {
      "cell_type": "code",
      "metadata": {
        "id": "z8fjlP4BnCMA",
        "colab": {
          "base_uri": "https://localhost:8080/"
        },
        "outputId": "1d2cb4fe-07d4-4866-af0e-d6d387803940"
      },
      "source": [
        "# what a user has already reviewed\n",
        "\n",
        "user_selected = test_data.user_id.sample(1).iloc[0]  \n",
        "items_reviewed_by_user = test_data[test_data.user_id == user_selected ]\n",
        "print(items_reviewed_by_user)"
      ],
      "execution_count": null,
      "outputs": [
        {
          "output_type": "stream",
          "text": [
            "         fit  user_id  item_id  ...  bust_type  userfind itemfind\n",
            "31538  large   294098   887454  ...          c     25767      277\n",
            "\n",
            "[1 rows x 17 columns]\n"
          ],
          "name": "stdout"
        }
      ]
    },
    {
      "cell_type": "code",
      "metadata": {
        "id": "zijd0NP9csFI"
      },
      "source": [
        "#what a user has not already reviewed\n",
        "items__not_reviewed = test_data[~test_data[\"item_id\"].isin(items_reviewed_by_user.item_id.values)][\"item_id\"]\n",
        "\n",
        "items__not_reviewed = list(set(items__not_reviewed).intersection(set(item2item_encoded_test.keys())))\n",
        "\n",
        "items__not_reviewed = [[item2item_encoded_test.get(x)] for x in items__not_reviewed]\n",
        "\n",
        "user_encoder = user2user_encoded_test.get(user_selected)\n",
        "\n",
        "#Stack arrays in sequence horizontally (column wise).\n",
        "user_item_array = np.hstack(([[user_encoder]] * len(items__not_reviewed), items__not_reviewed))  #user_item_array consists of selected_user in userfind and itemfind\n",
        "\n",
        "rate = model.predict(user_item_array)\n",
        "ratings = model.predict(user_item_array).flatten()\n",
        "\n",
        "\n",
        "#For any iterable in python [-10:] denotes the indexing of last 10 items of that iterable.\n",
        "#[::-1] denotes same list in reverse order\n",
        "#returns top 10 max ratings' indices\n",
        "top_ratings_indices = ratings.argsort()[-10:][::-1]\n",
        "recommended_item_ids = [\n",
        "    itemencoded2item_test.get(items__not_reviewed[x][0]) for x in top_ratings_indices\n",
        "]"
      ],
      "execution_count": null,
      "outputs": []
    },
    {
      "cell_type": "code",
      "metadata": {
        "id": "i8TJaAFZ-Xdf",
        "colab": {
          "base_uri": "https://localhost:8080/"
        },
        "outputId": "8f90c40d-b874-47f2-d616-122d2e03b52c"
      },
      "source": [
        "print(user_item_array)\n",
        "print(rate)"
      ],
      "execution_count": null,
      "outputs": [
        {
          "output_type": "stream",
          "text": [
            "[[25767   592]\n",
            " [25767   722]\n",
            " [25767  4164]\n",
            " ...\n",
            " [25767  4204]\n",
            " [25767  4148]\n",
            " [25767  4100]]\n",
            "[[0.5744927 ]\n",
            " [0.56738025]\n",
            " [0.50355405]\n",
            " ...\n",
            " [0.49205014]\n",
            " [0.53062665]\n",
            " [0.5303261 ]]\n"
          ],
          "name": "stdout"
        }
      ]
    },
    {
      "cell_type": "code",
      "metadata": {
        "id": "5HWnwsWu-dHs",
        "colab": {
          "base_uri": "https://localhost:8080/"
        },
        "outputId": "d1aa823b-855a-44e0-fc2e-74e4a330b68d"
      },
      "source": [
        "print (top_ratings_indices)"
      ],
      "execution_count": null,
      "outputs": [
        {
          "output_type": "stream",
          "text": [
            "[ 935 2846   17 3925  133  101 2445 2207 2824  430]\n"
          ],
          "name": "stdout"
        }
      ]
    },
    {
      "cell_type": "code",
      "metadata": {
        "id": "FhvGd2N8-hBK",
        "colab": {
          "base_uri": "https://localhost:8080/"
        },
        "outputId": "1f1db7da-f9b5-4360-d34f-88a5d3758044"
      },
      "source": [
        "#Top 10 recommended items \n",
        "print(\"Showing recommendations for user: {}\".format(user_selected))\n",
        "\n",
        "print(\"Top 10 items recommendations\")\n",
        "\n",
        "recommended_items = test_data[test_data[\"item_id\"].isin(recommended_item_ids)]\n",
        "recommended_items = recommended_items.drop_duplicates(subset = [\"item_id\"])\n",
        "\n",
        "for row in recommended_items.itertuples():\n",
        "    print(row.item_id)"
      ],
      "execution_count": null,
      "outputs": [
        {
          "output_type": "stream",
          "text": [
            "Showing recommendations for user: 294098\n",
            "Top 10 items recommendations\n",
            "492247\n",
            "164051\n",
            "864299\n",
            "168610\n",
            "165468\n",
            "1325648\n",
            "561864\n",
            "1941671\n",
            "1736728\n",
            "1134208\n"
          ],
          "name": "stdout"
        }
      ]
    }
  ]
}